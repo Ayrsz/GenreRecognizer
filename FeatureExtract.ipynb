{
  "nbformat": 4,
  "nbformat_minor": 0,
  "metadata": {
    "colab": {
      "provenance": [],
      "gpuType": "T4",
      "authorship_tag": "ABX9TyNs7wifo94zgIZhMX3cRSn/",
      "include_colab_link": true
    },
    "kernelspec": {
      "name": "python3",
      "display_name": "Python 3"
    },
    "language_info": {
      "name": "python"
    },
    "accelerator": "GPU"
  },
  "cells": [
    {
      "cell_type": "markdown",
      "metadata": {
        "id": "view-in-github",
        "colab_type": "text"
      },
      "source": [
        "<a href=\"https://colab.research.google.com/github/Ayrsz/SignalAndSistemyProject/blob/main/FeatureExtract.ipynb\" target=\"_parent\"><img src=\"https://colab.research.google.com/assets/colab-badge.svg\" alt=\"Open In Colab\"/></a>"
      ]
    },
    {
      "cell_type": "code",
      "execution_count": 2,
      "metadata": {
        "id": "fz7_fnJ4KaUM"
      },
      "outputs": [],
      "source": [
        "#Model CNN\n",
        "import torch\n",
        "import torch.nn as nn\n",
        "import torchaudio\n",
        "\n",
        "#Scientific computation\n",
        "import numpy as np\n",
        "import jax\n",
        "import jax.numpy as jnp\n",
        "import cupy as cp\n",
        "\n",
        "#Plot and view\n",
        "from matplotlib import pyplot as plt\n",
        "import IPython as ipy\n",
        "from IPython import display\n",
        "from IPython.display import Audio\n",
        "\n",
        "#Data manipulation\n",
        "import scipy as sci\n",
        "import os\n",
        "import gc\n",
        "\n",
        "#Audio manipulation\n",
        "import librosa\n",
        "import soundfile as sf\n"
      ]
    },
    {
      "cell_type": "code",
      "source": [
        "from google.colab import drive\n",
        "from zipfile import ZipFile\n",
        "\n",
        "drive.mount(\"/content/drive\", force_remount= True)"
      ],
      "metadata": {
        "colab": {
          "base_uri": "https://localhost:8080/"
        },
        "id": "7UUiH7ivKloZ",
        "outputId": "d5ebf024-02ba-4ac4-e915-7066108279aa"
      },
      "execution_count": 4,
      "outputs": [
        {
          "output_type": "stream",
          "name": "stdout",
          "text": [
            "Mounted at /content/drive\n"
          ]
        }
      ]
    },
    {
      "cell_type": "code",
      "source": [
        "#Unzip in a specific folder\n",
        "path_zip = \"/content/drive/MyDrive/Datasets/DatasetAudios/GTZAN.zip\"\n",
        "with ZipFile(path_zip , 'r') as zip_archive:\n",
        "    if not os.path.exists(\"/content/drive/MyDrive/Datasets/DatasetAudios/GTZAN/\"):\n",
        "        zip_archive.extractall(\"/content/drive/MyDrive/Datasets/DatasetAudios/\")\n",
        "    else:\n",
        "        print(\"Arquivo já unzipado, sem necessidade de ações.\")"
      ],
      "metadata": {
        "colab": {
          "base_uri": "https://localhost:8080/"
        },
        "id": "zNM1AUKsS6S-",
        "outputId": "614b1c82-64e6-449e-b9b5-da1e5c4197ef"
      },
      "execution_count": 5,
      "outputs": [
        {
          "output_type": "stream",
          "name": "stdout",
          "text": [
            "Arquivo já unzipado, sem necessidade de ações.\n"
          ]
        }
      ]
    },
    {
      "cell_type": "code",
      "source": [
        "def dir_genres(path_all_genres : str):\n",
        "    return [path_all_genres + '/' + pasta for pasta in os.listdir(path_all_genres)]\n",
        "\n",
        "#Return all files.wav separated per genres\n",
        "def dir_files_wav(path_genre : str):\n",
        "  return [path_genre + '/' + arquivo for arquivo in os.listdir(path_genre)]\n"
      ],
      "metadata": {
        "id": "7VFu6mTKS9IZ"
      },
      "execution_count": 6,
      "outputs": []
    },
    {
      "cell_type": "markdown",
      "source": [
        "##Generate Escpectogram"
      ],
      "metadata": {
        "id": "i6mDQJjbKybo"
      }
    },
    {
      "cell_type": "code",
      "source": [
        "def is_dir_empty(path):\n",
        "    with os.scandir(path) as iterator:\n",
        "        for entry in iterator:\n",
        "            if entry.name == '.ipynb_checkpoints':\n",
        "                continue\n",
        "            return False  # Se encontrar qualquer outro arquivo/pasta, não está vazio\n",
        "        return True  # Se só havia .ipynb_checkpoints (ou nada), está vazio\n",
        "\n",
        "def create_batch(files, size, genre, shape = 661794):\n",
        "    batch_size = min(size, len(files))\n",
        "    batch = jnp.zeros((batch_size, shape))  # Inicializa batch zerado\n",
        "\n",
        "    nums = []\n",
        "    new_files = []  # Lista para armazenar arquivos que foram processados corretamente\n",
        "\n",
        "    for i in range(batch_size):\n",
        "        try:\n",
        "\n",
        "            audio, sample_rate = sf.read(files[i])  # Mantém o SR original\n",
        "\n",
        "            if len(audio) < shape:\n",
        "                # Preenche com zeros se o áudio for menor que o tamanho esperado\n",
        "                audio = jnp.pad(audio, (0, shape - len(audio)))\n",
        "            elif len(audio) > shape:\n",
        "                # Se for maior, corta\n",
        "                audio = audio[:shape]\n",
        "\n",
        "            batch = batch.at[i].set(audio)\n",
        "\n",
        "            num = files[i].split(\"/\")[-1].split(\".\")[-2]\n",
        "\n",
        "            nums.append(num)\n",
        "            new_files.append(files[i])  # Adiciona à lista de arquivos processados\n",
        "\n",
        "        except Exception as e:\n",
        "            print(f\"Erro ao processar {files[i]}: {e}\")\n",
        "\n",
        "    # Remove os arquivos processados da lista original\n",
        "    for file in new_files:\n",
        "        files.remove(file)\n",
        "    batch = jax.device_put(batch)\n",
        "    return batch, nums, sample_rate, files\n",
        "\n",
        "\n",
        "def spectro_feat(audio, sample_rate):\n",
        "\n",
        "    audio = jax.device_put(audio)\n",
        "    FFT_SIZE = 512\n",
        "    HOP_SIZE = 256\n",
        "\n",
        "    hamming = jnp.hamming(FFT_SIZE)\n",
        "    num_frames = (len(audio) - FFT_SIZE) // HOP_SIZE + 1\n",
        "\n",
        "    def compute_fft(i):\n",
        "        start = i * HOP_SIZE\n",
        "        signal = jax.lax.dynamic_slice(audio, (start,), (FFT_SIZE,))\n",
        "        signal = signal * hamming\n",
        "        return jnp.fft.rfft(signal, n = FFT_SIZE)\n",
        "\n",
        "\n",
        "    sfft = jax.vmap(compute_fft)(jnp.arange(num_frames))\n",
        "\n",
        "    ssft = jnp.abs(sfft)**2 #Spectro\n",
        "    dB_format =  20 * jnp.log10( ssft / 1e-10) #Spectro\n",
        "    return dB_format.T\n",
        "\n",
        "def spectro_feat_batch(batch, sample_rate):\n",
        "    return jax.vmap(lambda audio: spectro_feat(audio, sample_rate))(batch)\n",
        "\n",
        "def plt_spectogram(batch, sample_rate, y_axis_type= \"linear\"):\n",
        "  escala_Y = spectro_feat_batch(batch, sample_rate)\n",
        "  escala_Y = np.array(escala_Y)\n",
        "  #fig = plt.figure(figsize=(10,10))\n",
        "  #plt.subplot(3,3,1)\n",
        "  for (i,audio) in enumerate(escala_Y):\n",
        "    plt.subplot(3,3,i+1)\n",
        "    librosa.display.specshow(audio, sr = sample_rate, x_axis = \"time\", y_axis = y_axis_type, )\n",
        "    plt.set_cmap(\"magma\")\n",
        "    plt.colorbar()\n",
        "\n",
        "def write_spectrogram(audios, sample_rate, paths_write):\n",
        "  escala_Y = spectro_feat_batch(audios, sample_rate)\n",
        "\n",
        "  del audios\n",
        "  gc.collect()\n",
        "\n",
        "  escala_Y = np.array(escala_Y)\n",
        "\n",
        "  assert len(escala_Y) == len(paths_write)\n",
        "\n",
        "  for (audio, path_write) in zip(escala_Y, paths_write):\n",
        "    plt.figure(figsize=(6,6))\n",
        "    librosa.display.specshow(audio, sr = sample_rate)\n",
        "    plt.set_cmap(\"magma\")\n",
        "    plt.savefig(path_write, dpi = 100, bbox_inches = \"tight\", pad_inches = 0)\n",
        "\n",
        "\n",
        "    del audio\n",
        "    gc.collect()\n",
        "    plt.close(\"all\")\n",
        "\n",
        "\n",
        "  del escala_Y\n",
        "  del paths_write\n",
        "  gc.collect()\n",
        "\n",
        "def write_spectrogram_from_genre(genre_path):\n",
        "    files = dir_files_wav(genre_path)\n",
        "    total_files_start = len(files)\n",
        "    paths = np.array(genre_path.split(\"/\"))\n",
        "    genre = paths[-1]\n",
        "    size_path = len(paths)\n",
        "    genre_images_path = '/'.join(paths[0:size_path-2]) + \"/images/\" + genre\n",
        "    batch_size = 5\n",
        "\n",
        "    print(f\"Writing on: {genre_images_path}\")\n",
        "\n",
        "    if is_dir_empty(genre_images_path):\n",
        "        while(len(files) != 0):\n",
        "            try:\n",
        "                audios, nums, sample_rate, files = create_batch(files, 2, genre)\n",
        "\n",
        "                paths_write = [genre_images_path + \"/\" + genre + \".\" + num + \".png\" for num in nums]\n",
        "                write_spectrogram(audios, sample_rate, paths_write)#, path_write)\n",
        "\n",
        "                if(len(files) % 25 == 0):\n",
        "                    print(f\"Carregando imagens, {genre} : {((total_files_start - len(files))/total_files_start)*100:.2f}%\")\n",
        "\n",
        "            except Exception as e:\n",
        "                print(f\"Erro {e}\")\n",
        "                print(f\"Erro em {files[0]}\")\n",
        "    else:\n",
        "        print(f\"Diretorio com imagens, porfavor esvazie: {genre}\")\n",
        "\n",
        "#Writting new images spectogram\n",
        "def write_all_spectrograms(path_genres : str):\n",
        "  genres_path = dir_genres(path_genres)\n",
        "\n",
        "  for genre_path in genres_path:\n",
        "    write_spectrogram_from_genre(genre_path)\n",
        "\n",
        "\n",
        "write_all_spectrograms(\"/content/drive/MyDrive/Datasets/DatasetAudios/GTZAN/Data/genres_original\")"
      ],
      "metadata": {
        "id": "lUVnyySbK_kJ",
        "colab": {
          "base_uri": "https://localhost:8080/"
        },
        "outputId": "ac10a4b5-ef63-45ea-c0da-8b7253d6794f"
      },
      "execution_count": null,
      "outputs": [
        {
          "output_type": "stream",
          "name": "stdout",
          "text": [
            "Writing on: /content/drive/MyDrive/Datasets/DatasetAudios/GTZAN/Data/images/blues\n",
            "Diretorio com imagens, porfavor esvazie: blues\n",
            "Writing on: /content/drive/MyDrive/Datasets/DatasetAudios/GTZAN/Data/images/classical\n",
            "Diretorio com imagens, porfavor esvazie: classical\n",
            "Writing on: /content/drive/MyDrive/Datasets/DatasetAudios/GTZAN/Data/images/country\n",
            "Diretorio com imagens, porfavor esvazie: country\n",
            "Writing on: /content/drive/MyDrive/Datasets/DatasetAudios/GTZAN/Data/images/disco\n",
            "Diretorio com imagens, porfavor esvazie: disco\n",
            "Writing on: /content/drive/MyDrive/Datasets/DatasetAudios/GTZAN/Data/images/hiphop\n",
            "Diretorio com imagens, porfavor esvazie: hiphop\n",
            "Writing on: /content/drive/MyDrive/Datasets/DatasetAudios/GTZAN/Data/images/jazz\n",
            "Diretorio com imagens, porfavor esvazie: jazz\n",
            "Writing on: /content/drive/MyDrive/Datasets/DatasetAudios/GTZAN/Data/images/metal\n",
            "Carregando imagens, metal : 8.33%\n",
            "Carregando imagens, metal : 16.67%\n",
            "Carregando imagens, metal : 25.00%\n"
          ]
        }
      ]
    },
    {
      "cell_type": "code",
      "source": [
        "def spectro_audio(audio):\n",
        "    audio = jax.device_put(audio)\n",
        "    FFT_SIZE = 1024\n",
        "    HOP_SIZE = 1290\n",
        "\n",
        "    hamming = jnp.hamming(FFT_SIZE)\n",
        "    num_frames = (len(audio) - FFT_SIZE) // HOP_SIZE + 1\n",
        "    print(len(audio))\n",
        "    def compute_fft(i):\n",
        "        start = i * HOP_SIZE\n",
        "        signal = jax.lax.dynamic_slice(audio, (start,), (FFT_SIZE,))\n",
        "        signal = signal * hamming\n",
        "        return jnp.fft.rfft(signal, n = FFT_SIZE)\n",
        "\n",
        "\n",
        "    sfft = jax.vmap(compute_fft)(jnp.arange(num_frames))\n",
        "    print(sfft.shape)\n",
        "    ssft = jnp.abs(sfft)**2 #Spectro\n",
        "    dB_format =  20 * jnp.log10( ssft / 1e-10) #Spectro\n",
        "\n",
        "    return dB_format.T\n",
        "\n",
        "audio, sr = librosa.load(\"/content/drive/MyDrive/Datasets/DatasetAudios/GTZAN/Data/genres_original/blues/blues.00001.wav\")\n",
        "\n",
        "audio_resp = spectro_audio(audio)"
      ],
      "metadata": {
        "colab": {
          "base_uri": "https://localhost:8080/"
        },
        "id": "Ui8YwaJKfjkA",
        "outputId": "1f2c28f5-7af2-4675-8a2f-9e89bb00fcbb"
      },
      "execution_count": 15,
      "outputs": [
        {
          "output_type": "stream",
          "name": "stdout",
          "text": [
            "661794\n",
            "(513, 513)\n"
          ]
        }
      ]
    },
    {
      "cell_type": "markdown",
      "source": [
        "##Features on time domain"
      ],
      "metadata": {
        "id": "eIHE1X-2K3UA"
      }
    },
    {
      "cell_type": "code",
      "source": [],
      "metadata": {
        "id": "ULT1hN6XK850"
      },
      "execution_count": null,
      "outputs": []
    },
    {
      "cell_type": "markdown",
      "source": [
        "## Features on frequency domain"
      ],
      "metadata": {
        "id": "QyHTUG4ZK9n6"
      }
    }
  ]
}