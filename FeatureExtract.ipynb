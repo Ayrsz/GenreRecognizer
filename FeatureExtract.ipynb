{
  "nbformat": 4,
  "nbformat_minor": 0,
  "metadata": {
    "colab": {
      "provenance": [],
      "gpuType": "T4",
      "authorship_tag": "ABX9TyM/YGTCZZ3VebJ2oc2ftbUH",
      "include_colab_link": true
    },
    "kernelspec": {
      "name": "python3",
      "display_name": "Python 3"
    },
    "language_info": {
      "name": "python"
    }
  },
  "cells": [
    {
      "cell_type": "markdown",
      "metadata": {
        "id": "view-in-github",
        "colab_type": "text"
      },
      "source": [
        "<a href=\"https://colab.research.google.com/github/Ayrsz/SignalAndSistemyProject/blob/main/FeatureExtract.ipynb\" target=\"_parent\"><img src=\"https://colab.research.google.com/assets/colab-badge.svg\" alt=\"Open In Colab\"/></a>"
      ]
    },
    {
      "cell_type": "code",
      "execution_count": 1,
      "metadata": {
        "id": "fz7_fnJ4KaUM"
      },
      "outputs": [],
      "source": [
        "#Scientific computation\n",
        "import numpy as np\n",
        "import jax\n",
        "import jax.numpy as jnp\n",
        "\n",
        "#Plot and view\n",
        "from matplotlib import pyplot as plt\n",
        "import IPython as ipy\n",
        "from IPython import display\n",
        "from IPython.display import Audio\n",
        "\n",
        "#Data manipulation\n",
        "import os\n",
        "import gc\n",
        "\n",
        "#Audio manipulation\n",
        "import librosa\n",
        "import soundfile as sf\n"
      ]
    },
    {
      "cell_type": "code",
      "source": [
        "from zipfile import ZipFile\n",
        "try:\n",
        "    from google.colab import drive\n",
        "    drive.mount(\"/content/drive\", force_remount= True)\n",
        "except:\n",
        "    print(\"Código rodando localmente\")"
      ],
      "metadata": {
        "colab": {
          "base_uri": "https://localhost:8080/"
        },
        "id": "7UUiH7ivKloZ",
        "outputId": "2985cc11-7c2a-4f17-b6e5-89f5dc88ce55"
      },
      "execution_count": 2,
      "outputs": [
        {
          "output_type": "stream",
          "name": "stdout",
          "text": [
            "Mounted at /content/drive\n"
          ]
        }
      ]
    },
    {
      "cell_type": "code",
      "source": [
        "#Unzip in a specific folder\n",
        "root_path = \"/content/drive/MyDrive/Dataset/DatasetAudios/\"\n",
        "if os.path.exists(root_path+\"GTZAN\"):\n",
        "    print(\"Arquivo já unzipado, sem necessidade de ações.\")\n",
        "else:\n",
        "    path_zip = root_path + \"GTZAN.zip\"\n",
        "    with ZipFile(path_zip , 'r') as zip_archive:\n",
        "        zip_archive.extractall(root_path + \"GTZAN\")\n",
        "\n",
        "root_path = \"/content/drive/MyDrive/Dataset/DatasetAudios/\" + \"GTZAN\""
      ],
      "metadata": {
        "colab": {
          "base_uri": "https://localhost:8080/"
        },
        "id": "zNM1AUKsS6S-",
        "outputId": "3737b79c-c5ad-45a8-df8a-802ccadb65c9"
      },
      "execution_count": 3,
      "outputs": [
        {
          "output_type": "stream",
          "name": "stdout",
          "text": [
            "Arquivo já unzipado, sem necessidade de ações.\n"
          ]
        }
      ]
    },
    {
      "cell_type": "code",
      "source": [
        "def dir_genres(path_all_genres : str) -> list[str]:\n",
        "    return [path_all_genres + '/' + pasta for pasta in os.listdir(path_all_genres)]\n",
        "\n",
        "#Return all files.wav separated per genres\n",
        "def dir_files_wav(path_genre : str) -> list[str]:\n",
        "  return [path_genre + '/' + arquivo for arquivo in os.listdir(path_genre)]\n"
      ],
      "metadata": {
        "id": "7VFu6mTKS9IZ"
      },
      "execution_count": 4,
      "outputs": []
    },
    {
      "cell_type": "markdown",
      "source": [
        "##Generate Escpectogram"
      ],
      "metadata": {
        "id": "i6mDQJjbKybo"
      }
    },
    {
      "cell_type": "code",
      "source": [
        "def is_dir_empty(path : str) -> bool:\n",
        "    with os.scandir(path) as iterator:\n",
        "        for entry in iterator:\n",
        "            if entry.name == '.ipynb_checkpoints':\n",
        "                continue\n",
        "            return False  # Se encontrar qualquer outro arquivo/pasta, não está vazio\n",
        "        return True  # Se só havia .ipynb_checkpoints (ou nada), está vazio\n",
        "\n",
        "def create_batch(files : list[str], size : int, genre : str, shape = 661794):\n",
        "    batch_size = min(size, len(files))\n",
        "    batch = jnp.zeros((batch_size, shape))  # Inicializa batch zerado\n",
        "\n",
        "    nums = []\n",
        "    new_files = []  # Lista para armazenar arquivos que foram processados corretamente\n",
        "\n",
        "    for i in range(batch_size):\n",
        "        try:\n",
        "\n",
        "            audio, sample_rate = sf.read(files[i])  # Mantém o SR original\n",
        "\n",
        "            if len(audio) < shape:\n",
        "                # Preenche com zeros se o áudio for menor que o tamanho esperado\n",
        "                audio = jnp.pad(audio, (0, shape - len(audio)))\n",
        "            elif len(audio) > shape:\n",
        "                # Se for maior, corta\n",
        "                audio = audio[:shape]\n",
        "\n",
        "            batch = batch.at[i].set(audio)\n",
        "\n",
        "            num = files[i].split(\"/\")[-1].split(\".\")[-2]\n",
        "\n",
        "            nums.append(num)\n",
        "            new_files.append(files[i])  # Adiciona à lista de arquivos processados\n",
        "\n",
        "        except Exception as e:\n",
        "            print(f\"Erro ao processar {files[i]}: {e}\")\n",
        "\n",
        "    # Remove os arquivos processados da lista original\n",
        "    for file in new_files:\n",
        "        files.remove(file)\n",
        "    batch = jax.device_put(batch)\n",
        "    return batch, nums, sample_rate, files\n",
        "\n",
        "\n",
        "def spectro_feat(audio : jnp.ndarray, sample_rate : int) -> jnp.ndarray:\n",
        "\n",
        "    audio = jax.device_put(audio)\n",
        "    FFT_SIZE = 512\n",
        "    HOP_SIZE = 256\n",
        "\n",
        "    hamming = jnp.hamming(FFT_SIZE)\n",
        "    num_frames = (len(audio) - FFT_SIZE) // HOP_SIZE + 1\n",
        "\n",
        "    def compute_fft(i):\n",
        "        start = i * HOP_SIZE\n",
        "        signal = jax.lax.dynamic_slice(audio, (start,), (FFT_SIZE,))\n",
        "        signal = signal * hamming\n",
        "        return jnp.fft.rfft(signal, n = FFT_SIZE)\n",
        "\n",
        "\n",
        "    sfft = jax.vmap(compute_fft)(jnp.arange(num_frames))\n",
        "\n",
        "    ssft = jnp.abs(sfft)**2 #Spectro\n",
        "    dB_format =  20 * jnp.log10( ssft / 1e-10) #Spectro\n",
        "    return dB_format.T\n",
        "\n",
        "def spectro_feat_batch(batch : jnp.ndarray, sample_rate : int) -> jnp.ndarray:\n",
        "    return jax.vmap(lambda audio: spectro_feat(audio, sample_rate))(batch)\n",
        "\n",
        "def plt_spectogram(batch : jnp.ndarray, sample_rate : int, y_axis_type= \"linear\"):\n",
        "  escala_Y = spectro_feat_batch(batch, sample_rate)\n",
        "  escala_Y = np.array(escala_Y)\n",
        "  #fig = plt.figure(figsize=(10,10))\n",
        "  #plt.subplot(3,3,1)\n",
        "  for (i,audio) in enumerate(escala_Y):\n",
        "    plt.subplot(3,3,i+1)\n",
        "    librosa.display.specshow(audio, sr = sample_rate, x_axis = \"time\", y_axis = y_axis_type, )\n",
        "    plt.set_cmap(\"magma\")\n",
        "    plt.colorbar()\n",
        "\n",
        "def write_spectrogram(audios : jnp.ndarray, sample_rate: int, paths_write : list[str]):\n",
        "  escala_Y = spectro_feat_batch(audios, sample_rate)\n",
        "\n",
        "  del audios\n",
        "  gc.collect()\n",
        "\n",
        "  escala_Y = np.array(escala_Y)\n",
        "\n",
        "  assert len(escala_Y) == len(paths_write)\n",
        "\n",
        "  for (audio, path_write) in zip(escala_Y, paths_write):\n",
        "    plt.figure(figsize=(6,6))\n",
        "    librosa.display.specshow(audio, sr = sample_rate)\n",
        "    plt.set_cmap(\"magma\")\n",
        "    plt.savefig(path_write, dpi = 100, bbox_inches = \"tight\", pad_inches = 0)\n",
        "\n",
        "\n",
        "    del audio\n",
        "    gc.collect()\n",
        "    plt.close(\"all\")\n",
        "\n",
        "\n",
        "  del escala_Y\n",
        "  del paths_write\n",
        "  gc.collect()\n",
        "\n",
        "def write_spectrogram_from_genre(genre_path : str):\n",
        "    files = dir_files_wav(genre_path)\n",
        "    total_files_start = len(files)\n",
        "    paths = np.array(genre_path.split(\"/\"))\n",
        "    genre = paths[-1]\n",
        "    size_path = len(paths)\n",
        "    genre_images_path = '/'.join(paths[0:size_path-2]) + \"/images/\" + genre\n",
        "    batch_size = 5\n",
        "\n",
        "    print(f\"Writing on: {genre_images_path}\")\n",
        "\n",
        "    if is_dir_empty(genre_images_path):\n",
        "        while(len(files) != 0):\n",
        "            try:\n",
        "                audios, nums, sample_rate, files = create_batch(files, 2, genre)\n",
        "\n",
        "                paths_write = [genre_images_path + \"/\" + genre + \".\" + num + \".png\" for num in nums]\n",
        "                write_spectrogram(audios, sample_rate, paths_write)#, path_write)\n",
        "\n",
        "                if(len(files) % 25 == 0):\n",
        "                    print(f\"Carregando imagens, {genre} : {((total_files_start - len(files))/total_files_start)*100:.2f}%\")\n",
        "\n",
        "            except Exception as e:\n",
        "                print(f\"Erro {e}\")\n",
        "                print(f\"Erro em {files[0]}\")\n",
        "    else:\n",
        "        print(f\"Diretorio com imagens, porfavor esvazie: {genre}\")\n",
        "\n",
        "#Writting new images spectogram\n",
        "def write_all_spectrograms(path_genres : str):\n",
        "  genres_path = dir_genres(path_genres)\n",
        "\n",
        "  for genre_path in genres_path:\n",
        "    write_spectrogram_from_genre(genre_path)\n",
        "\n",
        "\n",
        "write_all_spectrograms(root_path + \"/Data/genres_original\")"
      ],
      "metadata": {
        "id": "lUVnyySbK_kJ",
        "colab": {
          "base_uri": "https://localhost:8080/"
        },
        "outputId": "e68a033b-92ef-4a57-9a42-53f60e32861b"
      },
      "execution_count": 79,
      "outputs": [
        {
          "output_type": "stream",
          "name": "stdout",
          "text": [
            "Writing on: /content/drive/MyDrive/Dataset/DatasetAudios/GTZAN/Data/images/jazz\n",
            "Diretorio com imagens, porfavor esvazie: jazz\n",
            "Writing on: /content/drive/MyDrive/Dataset/DatasetAudios/GTZAN/Data/images/blues\n",
            "Diretorio com imagens, porfavor esvazie: blues\n",
            "Writing on: /content/drive/MyDrive/Dataset/DatasetAudios/GTZAN/Data/images/metal\n",
            "Diretorio com imagens, porfavor esvazie: metal\n",
            "Writing on: /content/drive/MyDrive/Dataset/DatasetAudios/GTZAN/Data/images/classical\n",
            "Diretorio com imagens, porfavor esvazie: classical\n",
            "Writing on: /content/drive/MyDrive/Dataset/DatasetAudios/GTZAN/Data/images/country\n",
            "Diretorio com imagens, porfavor esvazie: country\n",
            "Writing on: /content/drive/MyDrive/Dataset/DatasetAudios/GTZAN/Data/images/pop\n",
            "Diretorio com imagens, porfavor esvazie: pop\n",
            "Writing on: /content/drive/MyDrive/Dataset/DatasetAudios/GTZAN/Data/images/disco\n",
            "Diretorio com imagens, porfavor esvazie: disco\n",
            "Writing on: /content/drive/MyDrive/Dataset/DatasetAudios/GTZAN/Data/images/reggae\n",
            "Diretorio com imagens, porfavor esvazie: reggae\n",
            "Writing on: /content/drive/MyDrive/Dataset/DatasetAudios/GTZAN/Data/images/hiphop\n",
            "Diretorio com imagens, porfavor esvazie: hiphop\n",
            "Writing on: /content/drive/MyDrive/Dataset/DatasetAudios/GTZAN/Data/images/rock\n",
            "Diretorio com imagens, porfavor esvazie: rock\n"
          ]
        }
      ]
    },
    {
      "cell_type": "markdown",
      "source": [
        "#Features on time domain"
      ],
      "metadata": {
        "id": "eIHE1X-2K3UA"
      }
    },
    {
      "cell_type": "code",
      "source": [
        "audio_example, sr = librosa.load(\"/content/drive/MyDrive/Dataset/DatasetAudios/GTZAN/Data/genres_original/metal/metal.00041.wav\")"
      ],
      "metadata": {
        "id": "lodMBaUPpCZg"
      },
      "execution_count": 119,
      "outputs": []
    },
    {
      "cell_type": "code",
      "source": [
        "def round_float_decimal(number):\n",
        "    if not isinstance(number, np.ndarray):\n",
        "        return float(f\"{number:.4f}\")\n",
        "    else:\n",
        "        return np.array([float(f\"{d:.4f}\") for d in number])\n",
        "\n",
        "def get_statistics_feature(audio : np.typing.NDArray, name) -> dict:\n",
        "    mean = round_float_decimal(np.mean(audio))\n",
        "    std = round_float_decimal(np.std(audio))\n",
        "    max = round_float_decimal(np.max(audio))\n",
        "    min = round_float_decimal(np.min(audio))\n",
        "    quartis = round_float_decimal(np.quantile(audio, [0.25, 0.5, 0.75]))\n",
        "    return {name + \"_mean\": mean, name + \"_std\":std,  name + \"_max\": max, name + \"_min\": min, name + \"_25p\":quartis[0], name + \"_50p\": quartis[1],  name+ \"_75p\": quartis[2]}"
      ],
      "metadata": {
        "id": "xD2GLz0QEi-u"
      },
      "execution_count": 245,
      "outputs": []
    },
    {
      "cell_type": "markdown",
      "source": [
        "## Low level features"
      ],
      "metadata": {
        "id": "mMDhTnANmLPE"
      }
    },
    {
      "cell_type": "markdown",
      "source": [
        "### Energy"
      ],
      "metadata": {
        "id": "qkFMHBeYeQm1"
      }
    },
    {
      "cell_type": "code",
      "source": [
        "def get_rms(audio, FRAME_SIZE = 1024):\n",
        "    rms = librosa.feature.rms(y = audio, frame_length= FRAME_SIZE)\n",
        "    feats = get_statistics_feature(rms, \"rms\")\n",
        "    return feats\n",
        "rms = get_rms(audio_example)\n",
        "print(rms)\n"
      ],
      "metadata": {
        "id": "ULT1hN6XK850",
        "colab": {
          "base_uri": "https://localhost:8080/"
        },
        "outputId": "c83d2d27-f126-490f-da07-161fee0e5522"
      },
      "execution_count": 176,
      "outputs": [
        {
          "output_type": "stream",
          "name": "stdout",
          "text": [
            "{'rms_mean': np.float32(0.096787415), 'rms_std': np.float32(0.022715215), 'rms_max': np.float32(0.16872784), 'rms_min': np.float32(0.03834604), 'rms_25p': np.float64(0.07967611402273178), 'rms_50p': np.float64(0.09463489800691605), 'rms_75p': np.float64(0.1081550270318985)}\n"
          ]
        }
      ]
    },
    {
      "cell_type": "markdown",
      "source": [
        "### Zero-Cross-Rate"
      ],
      "metadata": {
        "id": "79prusHfeTXz"
      }
    },
    {
      "cell_type": "code",
      "source": [
        "def get_zero_cross_rate(audio, FRAME_SIZE = 1024):\n",
        "    zero_cross = librosa.feature.zero_crossing_rate(audio, frame_length= FRAME_SIZE)\n",
        "    feats = get_statistics_feature(zero_cross, \"zero_cross\")\n",
        "    return feats\n",
        "\n",
        "\n",
        "rate = get_zero_cross_rate(audio_example)\n"
      ],
      "metadata": {
        "id": "UplXF36YscQF"
      },
      "execution_count": 211,
      "outputs": []
    },
    {
      "cell_type": "markdown",
      "source": [
        "### Amplitude Envelope"
      ],
      "metadata": {
        "id": "q6niBMUKfERa"
      }
    },
    {
      "cell_type": "code",
      "source": [
        "def get_amplitude_envelope(audio, sample_rate, frame_size = 1024):\n",
        "    AEm = []\n",
        "    number_of_frames = len(audio) // frame_size\n",
        "    for i in range(number_of_frames):\n",
        "        start = i * frame_size\n",
        "        stop = start + frame_size\n",
        "        max_amp = np.max(audio[start:stop])\n",
        "        AEm.append(max_amp)\n",
        "    AEm = np.array(AEm)\n",
        "\n",
        "    feats = get_statistics_feature(AEm, \"amplitude_envelope\")\n",
        "    return feats\n",
        "\n",
        "\n",
        "\n",
        "\n",
        "audio, sr = librosa.load(\"/content/drive/MyDrive/Datasets/DatasetAudios/GTZAN/Data/genres_original/blues/blues.00001.wav\")\n",
        "rms_info = get_amplitude_envelope(audio_example, sr)\n",
        "print(rms_info)"
      ],
      "metadata": {
        "colab": {
          "base_uri": "https://localhost:8080/"
        },
        "id": "NjDhuPbvilI0",
        "outputId": "ef7cf7e1-4ab4-4aaa-ff35-286c5f62a415"
      },
      "execution_count": 178,
      "outputs": [
        {
          "output_type": "stream",
          "name": "stdout",
          "text": [
            "{'amplitude_envelope_mean': np.float32(0.29201722), 'amplitude_envelope_std': np.float32(0.091424696), 'amplitude_envelope_max': np.float32(0.6850891), 'amplitude_envelope_min': np.float32(0.11013794), 'amplitude_envelope_25p': np.float64(0.228851318359375), 'amplitude_envelope_50p': np.float64(0.274688720703125), 'amplitude_envelope_75p': np.float64(0.3383331298828125)}\n"
          ]
        }
      ]
    },
    {
      "cell_type": "markdown",
      "source": [
        "## Medium level Features"
      ],
      "metadata": {
        "id": "EfPfJpOBnGSQ"
      }
    },
    {
      "cell_type": "markdown",
      "source": [
        "### Kurtosis"
      ],
      "metadata": {
        "id": "gMZ-PQjVqpSK"
      }
    },
    {
      "cell_type": "code",
      "source": [
        "#Analise do formato da curva da distribuição dos valores do sinal\n",
        "# Kurtosis -> O quão intenso é o pico em comparação ao resto\n",
        "# K = E([SINAL - MEDIA]^4)/DESVIO_PADRÃO ^4\n",
        "# K < 3 -> Mais suave que uma distribuição gaussiana\n",
        "# K = 3 -> Parecido com uma distribuição gaussiana\n",
        "# K > 3 -> Mais \"pontudo\" que a distribuicação gaussiana\n",
        "def get_kurtosis(audio):\n",
        "    audio_normalizado = (audio - np.mean(audio))/np.max(audio)\n",
        "\n",
        "    mean = np.mean(audio_normalizado)\n",
        "    std = np.std(audio_normalizado)\n",
        "    dif_audio_media = audio - mean\n",
        "\n",
        "    valor_esperado = np.mean(dif_audio_media**4)\n",
        "\n",
        "    kurtosis = np.float64(valor_esperado/std**4)\n",
        "    return round_float_decimal(kurtosis)\n",
        "\n",
        "print(get_kurtosis(audio_example))"
      ],
      "metadata": {
        "colab": {
          "base_uri": "https://localhost:8080/"
        },
        "id": "yttKemqxqrk7",
        "outputId": "67e916a2-f3ba-460d-9454-e031e9a0e7e8"
      },
      "execution_count": 247,
      "outputs": [
        {
          "output_type": "stream",
          "name": "stdout",
          "text": [
            "0.8641\n"
          ]
        }
      ]
    },
    {
      "cell_type": "markdown",
      "source": [
        "## High level features"
      ],
      "metadata": {
        "id": "GvVBIuKjnBOI"
      }
    },
    {
      "cell_type": "markdown",
      "source": [
        "### Tempo"
      ],
      "metadata": {
        "id": "d1_w9d5HnKUI"
      }
    },
    {
      "cell_type": "code",
      "source": [
        "def get_tempo(audio, sample_rate):\n",
        "    tempo, beats = librosa.beat.beat_track(y = audio, sr = sample_rate)\n",
        "    tempo = tempo.item() #É um vetor de apenas um unico valor\n",
        "    return np.int32(tempo)\n",
        "\n",
        "\n",
        "print(get_tempo(audio_example, sr))"
      ],
      "metadata": {
        "colab": {
          "base_uri": "https://localhost:8080/"
        },
        "id": "yWDhN7ovnJ7Z",
        "outputId": "3b0336c9-adb5-42d8-a95e-c7785378e93c"
      },
      "execution_count": 126,
      "outputs": [
        {
          "output_type": "stream",
          "name": "stdout",
          "text": [
            "117\n"
          ]
        }
      ]
    },
    {
      "cell_type": "markdown",
      "source": [
        "# Features on frequency domain"
      ],
      "metadata": {
        "id": "QyHTUG4ZK9n6"
      }
    },
    {
      "cell_type": "markdown",
      "source": [
        "### Low level feature"
      ],
      "metadata": {
        "id": "v9nT9KJ16msF"
      }
    },
    {
      "cell_type": "code",
      "source": [
        "#Gera um \"centro de massa\"\n",
        "#Média das frequencias, ponderadas pela amplitude daquela sample para cada frame (usa sft)\n",
        "def get_spectral_centroid(audio, sample_rate):\n",
        "    spectral_centroid = librosa.feature.spectral_centroid(y = audio, sr = sample_rate)\n",
        "    feats = get_statistics_feature(spectral_centroid, \"spectral_centroid\")\n",
        "    return feats\n",
        "\n",
        "centroid = get_spectral_centroid(audio_example, sr)\n",
        "print(centroid)"
      ],
      "metadata": {
        "colab": {
          "base_uri": "https://localhost:8080/"
        },
        "id": "e3E5JHv66mZO",
        "outputId": "d36de110-9da7-450c-89a2-2db6372c0710"
      },
      "execution_count": 213,
      "outputs": [
        {
          "output_type": "stream",
          "name": "stdout",
          "text": [
            "{'spectral_centroid_mean': np.float64(2269.1618713103626), 'spectral_centroid_std': np.float64(368.46775170144997), 'spectral_centroid_max': np.float64(3496.809546746783), 'spectral_centroid_min': np.float64(1306.5515169480977), 'spectral_centroid_25p': np.float64(2005.6191945289615), 'spectral_centroid_50p': np.float64(2233.779149412821), 'spectral_centroid_75p': np.float64(2532.513023398053)}\n"
          ]
        }
      ]
    },
    {
      "cell_type": "markdown",
      "source": [
        "### High level feature"
      ],
      "metadata": {
        "id": "57gmTB1r8RrJ"
      }
    },
    {
      "cell_type": "code",
      "source": [
        "def get_mel_coef(audio, sample_rate):\n",
        "    mfcc = librosa.feature.mfcc(y = audio, sr = sample_rate, n_mfcc = 13)\n",
        "    coefs_estatistics = {}\n",
        "    for (i,coefs) in enumerate(mfcc):\n",
        "        coefs_estatistics[\"mfcc#\" + f\"{i:02d}_mean\"] = round_float_decimal(np.mean(coefs))\n",
        "        coefs_estatistics[\"mfcc#\" + f\"{i:02d}_std\"] = round_float_decimal(np.std(coefs))\n",
        "\n",
        "\n",
        "    return coefs_estatistics\n",
        "\n",
        "mfcc = get_mel_coef(audio_example, sr)\n",
        "print(mfcc)"
      ],
      "metadata": {
        "colab": {
          "base_uri": "https://localhost:8080/"
        },
        "id": "Eir8oQ-M8RJX",
        "outputId": "4173b124-42d9-450c-beaf-af6469460e3d"
      },
      "execution_count": 241,
      "outputs": [
        {
          "output_type": "stream",
          "name": "stdout",
          "text": [
            "{'mfcc#00_mean': -100.423, 'mfcc#00_std': 36.409, 'mfcc#01_mean': 104.693, 'mfcc#01_std': 19.852, 'mfcc#02_mean': -57.254, 'mfcc#02_std': 18.144, 'mfcc#03_mean': 56.577, 'mfcc#03_std': 10.628, 'mfcc#04_mean': -5.556, 'mfcc#04_std': 9.673, 'mfcc#05_mean': 22.833, 'mfcc#05_std': 10.063, 'mfcc#06_mean': -6.172, 'mfcc#06_std': 10.503, 'mfcc#07_mean': 23.097, 'mfcc#07_std': 8.875, 'mfcc#08_mean': -19.072, 'mfcc#08_std': 7.08, 'mfcc#09_mean': 17.795, 'mfcc#09_std': 7.216, 'mfcc#10_mean': -13.783, 'mfcc#10_std': 6.934, 'mfcc#11_mean': 9.963, 'mfcc#11_std': 7.073, 'mfcc#12_mean': -14.859, 'mfcc#12_std': 6.991}\n"
          ]
        }
      ]
    },
    {
      "cell_type": "markdown",
      "source": [
        "# Create CSV"
      ],
      "metadata": {
        "id": "gWHxnz2v-X_n"
      }
    },
    {
      "cell_type": "code",
      "source": [
        "import csv\n",
        "\n",
        "\n",
        "\n",
        "def get_features_dict(audio, sample_rate, name, dir_image):\n",
        "    features_dict = {\"name\": name + \".wav\", \"dir_image\": dir_image}\n",
        "\n",
        "    rms = (get_rms(audio, sample_rate))\n",
        "    zero_cross = (get_zero_cross_rate(audio))\n",
        "    amplitude_env = (get_amplitude_envelope(audio, sample_rate))\n",
        "    spectral_centroid = (get_spectral_centroid(audio, sample_rate))\n",
        "    mfcc_coef = (get_mel_coef(audio, sample_rate))\n",
        "\n",
        "    features_dict = features_dict | rms | zero_cross | amplitude_env | spectral_centroid | mfcc_coef\n",
        "\n",
        "    kurtosis = get_kurtosis(audio)\n",
        "    tempo = get_tempo(audio, sample_rate)\n",
        "    label = name.split(\".\")[0]\n",
        "\n",
        "    features_dict.update({\"tempo\":tempo, \"kurtosis\":kurtosis, \"label\":label})\n",
        "\n",
        "    return features_dict\n",
        "\n",
        "\n",
        "\n",
        "def write_csv_genre(genre_path, path_write):\n",
        "    files = dir_files_wav(genre_path)\n",
        "    features_vector = []\n",
        "    for file in files:\n",
        "        path = file.split(\"/\")\n",
        "        name = path[-1].replace(\".wav\", \"\")\n",
        "        num = name.split(\".\")[1]\n",
        "\n",
        "        genre = name.split(\".\")[0]\n",
        "\n",
        "        idx_data = [i for i in range(len(path)) if path[i] == \"Data\" ][0]\n",
        "        dir_image = \"/\".join(path[:idx_data]) + \"/images/\" + genre + \"/\" + name + \".png\"\n",
        "\n",
        "        audio, sample_rate = librosa.load(file)\n",
        "        features_dict = get_features_dict(audio, sample_rate, name, dir_image)\n",
        "        features_vector.append(features_dict)\n",
        "\n",
        "\n",
        "    with open(path_write + \"/feats.csv\", 'w') as f:\n",
        "        writer = csv.DictWriter(f, fieldnames = features_vector[0].keys())\n",
        "        writer.writeheader()\n",
        "        writer.writerows(features_vector)\n",
        "\n",
        "    del features_vector\n",
        "    del files\n",
        "    gc.collect()\n",
        "\n",
        "\n",
        "def write_csv(root_dir, path_write):\n",
        "    genres_dir = dir_genres(root_dir)\n",
        "\n",
        "    for genre in genres_dir:\n",
        "        print(\"Acessing: \", genre)\n",
        "        write_csv_genre(genre, path_write)\n",
        "\n",
        "\n",
        "\n",
        "\n",
        "\n",
        "write_csv(root_path + \"/Data/genres_original\",  root_path + \"/Data\")"
      ],
      "metadata": {
        "id": "vOX7Yd1x-aXH"
      },
      "execution_count": 249,
      "outputs": []
    }
  ]
}