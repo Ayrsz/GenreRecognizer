{
  "nbformat": 4,
  "nbformat_minor": 0,
  "metadata": {
    "colab": {
      "provenance": [],
      "authorship_tag": "ABX9TyMqCaPxjxM+m12XaZFk9+uL",
      "include_colab_link": true
    },
    "kernelspec": {
      "name": "python3",
      "display_name": "Python 3"
    },
    "language_info": {
      "name": "python"
    }
  },
  "cells": [
    {
      "cell_type": "markdown",
      "metadata": {
        "id": "view-in-github",
        "colab_type": "text"
      },
      "source": [
        "<a href=\"https://colab.research.google.com/github/Ayrsz/SignalAndSistemyProject/blob/main/Augmentation_Audios.ipynb\" target=\"_parent\"><img src=\"https://colab.research.google.com/assets/colab-badge.svg\" alt=\"Open In Colab\"/></a>"
      ]
    },
    {
      "cell_type": "code",
      "source": [
        "#Model CNN\n",
        "import torch\n",
        "import torch.nn as nn\n",
        "import torchaudio\n",
        "\n",
        "#Scientific computation\n",
        "import numpy as np\n",
        "import jax\n",
        "\n",
        "#Plot and view\n",
        "from matplotlib import pyplot as plt\n",
        "import IPython as ipy\n",
        "from IPython import display\n",
        "from IPython.display import Audio\n",
        "\n",
        "#Data manipulation\n",
        "import pandas as pd\n",
        "import scipy as sci\n",
        "import os\n",
        "\n",
        "#Audio manipulation\n",
        "import librosa\n"
      ],
      "metadata": {
        "id": "4JcAlAVjRgTk"
      },
      "execution_count": 1,
      "outputs": []
    },
    {
      "cell_type": "code",
      "source": [
        "print(torch.__version__)"
      ],
      "metadata": {
        "colab": {
          "base_uri": "https://localhost:8080/"
        },
        "id": "2DGK4OT5ka2W",
        "outputId": "88638ed9-ed55-49af-9a2d-9b529d89226f"
      },
      "execution_count": 2,
      "outputs": [
        {
          "output_type": "stream",
          "name": "stdout",
          "text": [
            "2.6.0+cu124\n"
          ]
        }
      ]
    },
    {
      "cell_type": "code",
      "source": [
        "from zipfile import ZipFile\n",
        "from google.colab import drive\n",
        "drive.mount(\"/content/drive\", True)"
      ],
      "metadata": {
        "colab": {
          "base_uri": "https://localhost:8080/"
        },
        "id": "9Fc7qq1_SbSz",
        "outputId": "2d889421-f392-4e64-db8f-6cb8d1880ea2"
      },
      "execution_count": 3,
      "outputs": [
        {
          "output_type": "stream",
          "name": "stdout",
          "text": [
            "Mounted at /content/drive\n"
          ]
        }
      ]
    },
    {
      "cell_type": "code",
      "source": [
        "#Unzip in a specific folder\n",
        "with ZipFile(\"/content/drive/MyDrive/Datasets/DatasetAudios/GTZAN.zip\", 'r') as zip_archive:\n",
        "  zip_archive.extractall(\"/content/dataset/\")"
      ],
      "metadata": {
        "id": "YSygWuJCZ078"
      },
      "execution_count": 4,
      "outputs": []
    },
    {
      "cell_type": "markdown",
      "source": [
        "### Writing on dir :O"
      ],
      "metadata": {
        "id": "q__hdr7CnL3q"
      }
    },
    {
      "cell_type": "code",
      "source": [
        "#Return all directories genres\n",
        "def dir_genres(path_all_genres : str):\n",
        "  print(path_all_genres)\n",
        "  return [path_all_genres + '/' + pasta for pasta in os.listdir(path_all_genres)]\n",
        "\n",
        "#Return all files.wav separated per genres\n",
        "def dir_files_wav(path_genres : str):\n",
        "  return [path_genres + '/' + arquivo for arquivo in os.listdir(path_genres)]\n",
        "\n",
        "#Writing new audios\n",
        "def write_new_files_wav(path_genre : str, audios, sample_rate):\n",
        "  wavs = dir_files_wav(path_genre)\n",
        "  if len(wavs) == 0:\n",
        "    numero = 0\n",
        "    genero = \"teste\"\n",
        "\n",
        "  else:\n",
        "    tamanho = len(wavs)\n",
        "    genero = \"teste\"\n",
        "    numero = int(tamanho - 1)\n",
        "\n",
        "  numero_str = (\"{:05d}\".format(numero))\n",
        "  nome_arquivo = genero + \".\" + numero_str + \".wav\"\n",
        "\n",
        "  for audio in audios:\n",
        "    nome_arquivo = genero + \".\" + numero_str + \".wav\"\n",
        "\n",
        "    torch.save(audio, nome_arquivo, 2400)\n",
        "\n",
        "\n",
        "    numero = numero + 1"
      ],
      "metadata": {
        "id": "7CgKJAfOSSMd"
      },
      "execution_count": 14,
      "outputs": []
    },
    {
      "cell_type": "code",
      "source": [
        "  def get_effects():\n",
        "      return [[\"rate\", \"16000\"], [\"reverb\", \"50\"]]"
      ],
      "metadata": {
        "id": "N6OuSw2onZin"
      },
      "execution_count": 6,
      "outputs": []
    },
    {
      "cell_type": "markdown",
      "source": [
        "### Augmentations\n"
      ],
      "metadata": {
        "id": "FktcCOvunPz4"
      }
    },
    {
      "cell_type": "code",
      "source": [
        "class augmentation_dataset:\n",
        "  def __init__(self, path_all_genres : str):\n",
        "    self.path_genres = dir_genres(path_all_genres)\n",
        "    self.path_files = dir_files_wav(path_all_genres)\n",
        "\n",
        "  @staticmethod\n",
        "  def get_effects():\n",
        "        return [[\"adelay=1500|0|500\"]]\n",
        "\n",
        "  def apply_effects(self, audio, sample_rate):  # 🔥 Agora é um método da classe\n",
        "        efeitos = self.get_effects()  # Aqui pode chamar self.get_effects() se quiser\n",
        "        new_audios, new_sample_rates = torchaudio.io.AudioEffector(efeitos)\n",
        "        return new_audios, new_sample_rates\n",
        "\n",
        "  def augmentation_audios_in_a_dir(self, index : int):\n",
        "    for audio_path in self.path_files[index]:\n",
        "\n",
        "\n",
        "        musica, sample_rate = torchaudio.load(audio_path)\n",
        "        print(musica.shape, sample_rate)\n",
        "        mod = self.apply_effects(musica, sample_rate)\n",
        "        break\n",
        "\n",
        "  def augmentation(self):\n",
        "\n",
        "    for i in range(len(self.path_genres)):\n",
        "      novos_audios = self.augmentation_audios_in_a_dir(i)\n",
        "\n",
        "\n",
        "\n",
        "#dataset = augmentation_dataset(\"/content/dataset/Data/genres_original\")\n",
        "#dataset.get_effects()\n",
        "#dataset.augmentation()"
      ],
      "metadata": {
        "id": "RxISK9O9nSo_"
      },
      "execution_count": 7,
      "outputs": []
    },
    {
      "cell_type": "markdown",
      "source": [
        "##Making Spectogram"
      ],
      "metadata": {
        "id": "_Q-BuCtLleJ2"
      }
    },
    {
      "cell_type": "code",
      "source": [
        "def spectro_feat(audio, sample_rate):\n",
        "  #Transformada de fourier\n",
        "  FRAME_SIZE = 2048\n",
        "\n",
        "  HOP_SIZE = 512\n",
        "  short_fourier_transformed_audio = librosa.stft(audio, n_fft = FRAME_SIZE, hop_length = 512)\n",
        "\n",
        "  #O audio vira 2d.\n",
        "  #Primeira dimensão: Faixas de frequecias ((FRAME_SIZE/2)+1)\n",
        "  #Segunda dimensão: Frames\n",
        "\n",
        "  #Transformar em valores reais\n",
        "  escala_Y = np.abs(short_fourier_transformed_audio)**2\n",
        "\n",
        "  #Converter escala para decibeis\n",
        "  escala_Y = librosa.power_to_db(escala_Y)\n",
        "  return escala_Y\n",
        "\n",
        "def plt_spectogram(audio, sample_rate, y_axis_type= \"linear\"):\n",
        "  escala_Y = spectro_feat(audio, sample_rate)\n",
        "  librosa.display.specshow(escala_Y, sr = sample_rate, x_axis = \"time\", y_axis = y_axis_type, )\n",
        "  plt.set_cmap(\"magma\")\n",
        "  plt.colorbar()\n",
        "\n",
        "def write_spectrogram(audio, sample_rate, path_write):\n",
        "  escala_Y = spectro_feat(audio, sample_rate)\n",
        "  librosa.display.specshow(escala_Y, sr = sample_rate)\n",
        "  plt.set_cmap(\"magma\")\n",
        "  plt.savefig(path_write, dpi = 300, bbox_inches = \"tight\", pad_inches = 0)\n",
        "  plt.close()\n",
        "\n",
        "def write_spectrogram_from_genre(files_paths, paths_outputs):\n",
        "  for (path_file, path_out) in zip(files_paths, paths_outputs):\n",
        "    audio, sample_rate = librosa.load(path_file)\n",
        "    write_spectrogram(audio, sample_rate, path_out)\n",
        "#Writting new images spectogram\n",
        "def write_all_spectrograms(path_root : str):\n",
        "  path_genre = path_root + \"/genres_original/\"\n",
        "  genres_path = dir_genres(path_genre)\n",
        "\n",
        "  for genre_path in genres_path:\n",
        "    files_paths = dir_files_wav(genre_path)\n",
        "    (numeros) = [file_path.split(\".\")[1] for file_path in files_paths]\n",
        "    genero = genre_path.split(\"/\")[-1]\n",
        "    paths_imgs = [(path_root + \"/images/\" + genero + \"/\" + \"img.\" + numero + \".png\") for numero in numeros]\n",
        "    write_spectrogram_from_genre(files_paths, paths_imgs)\n",
        "\n",
        "\n",
        " #print(genres_path)\n",
        "\n",
        "write_all_spectrograms(\"/content/dataset/GTZAN/Data\")"
      ],
      "metadata": {
        "id": "Bhsxpx-AY7oY",
        "colab": {
          "base_uri": "https://localhost:8080/"
        },
        "outputId": "ca5e3dac-322d-492c-c756-ceaa4fd05372"
      },
      "execution_count": 15,
      "outputs": [
        {
          "output_type": "stream",
          "name": "stdout",
          "text": [
            "/content/dataset/GTZAN/Data/genres_original/\n",
            "Shape da transformada: (1025, 1293)\n",
            "Shape da transformada: (1025, 1293)\n",
            "Shape da transformada: (1025, 1293)\n",
            "Shape da transformada: (1025, 1293)\n",
            "Shape da transformada: (1025, 1293)\n",
            "Shape da transformada: (1025, 1293)\n",
            "Shape da transformada: (1025, 1293)\n",
            "Shape da transformada: (1025, 1293)\n",
            "Shape da transformada: (1025, 1293)\n",
            "Shape da transformada: (1025, 1293)\n",
            "Shape da transformada: (1025, 1293)\n",
            "Shape da transformada: (1025, 1293)\n",
            "Shape da transformada: (1025, 1293)\n",
            "Shape da transformada: (1025, 1293)\n",
            "Shape da transformada: (1025, 1293)\n",
            "Shape da transformada: (1025, 1293)\n",
            "Shape da transformada: (1025, 1293)\n",
            "Shape da transformada: (1025, 1293)\n",
            "Shape da transformada: (1025, 1293)\n",
            "Shape da transformada: (1025, 1293)\n",
            "Shape da transformada: (1025, 1293)\n",
            "Shape da transformada: (1025, 1293)\n",
            "Shape da transformada: (1025, 1293)\n",
            "Shape da transformada: (1025, 1293)\n",
            "Shape da transformada: (1025, 1293)\n",
            "Shape da transformada: (1025, 1293)\n",
            "Shape da transformada: (1025, 1293)\n",
            "Shape da transformada: (1025, 1293)\n",
            "Shape da transformada: (1025, 1293)\n",
            "Shape da transformada: (1025, 1293)\n",
            "Shape da transformada: (1025, 1293)\n",
            "Shape da transformada: (1025, 1293)\n",
            "Shape da transformada: (1025, 1293)\n",
            "Shape da transformada: (1025, 1293)\n",
            "Shape da transformada: (1025, 1293)\n",
            "Shape da transformada: (1025, 1293)\n",
            "Shape da transformada: (1025, 1293)\n",
            "Shape da transformada: (1025, 1293)\n",
            "Shape da transformada: (1025, 1293)\n",
            "Shape da transformada: (1025, 1293)\n",
            "Shape da transformada: (1025, 1293)\n",
            "Shape da transformada: (1025, 1293)\n",
            "Shape da transformada: (1025, 1293)\n",
            "Shape da transformada: (1025, 1293)\n",
            "Shape da transformada: (1025, 1293)\n",
            "Shape da transformada: (1025, 1293)\n",
            "Shape da transformada: (1025, 1293)\n",
            "Shape da transformada: (1025, 1293)\n",
            "Shape da transformada: (1025, 1293)\n",
            "Shape da transformada: (1025, 1293)\n",
            "Shape da transformada: (1025, 1293)\n",
            "Shape da transformada: (1025, 1293)\n",
            "Shape da transformada: (1025, 1293)\n",
            "Shape da transformada: (1025, 1293)\n",
            "Shape da transformada: (1025, 1293)\n",
            "Shape da transformada: (1025, 1293)\n",
            "Shape da transformada: (1025, 1293)\n",
            "Shape da transformada: (1025, 1293)\n",
            "Shape da transformada: (1025, 1293)\n",
            "Shape da transformada: (1025, 1293)\n",
            "Shape da transformada: (1025, 1293)\n",
            "Shape da transformada: (1025, 1293)\n",
            "Shape da transformada: (1025, 1293)\n",
            "Shape da transformada: (1025, 1293)\n",
            "Shape da transformada: (1025, 1293)\n",
            "Shape da transformada: (1025, 1293)\n",
            "Shape da transformada: (1025, 1293)\n",
            "Shape da transformada: (1025, 1293)\n",
            "Shape da transformada: (1025, 1293)\n",
            "Shape da transformada: (1025, 1293)\n",
            "Shape da transformada: (1025, 1293)\n",
            "Shape da transformada: (1025, 1293)\n",
            "Shape da transformada: (1025, 1293)\n",
            "Shape da transformada: (1025, 1293)\n",
            "Shape da transformada: (1025, 1293)\n",
            "Shape da transformada: (1025, 1293)\n",
            "Shape da transformada: (1025, 1293)\n",
            "Shape da transformada: (1025, 1293)\n",
            "Shape da transformada: (1025, 1293)\n",
            "Shape da transformada: (1025, 1293)\n",
            "Shape da transformada: (1025, 1293)\n",
            "Shape da transformada: (1025, 1293)\n",
            "Shape da transformada: (1025, 1293)\n",
            "Shape da transformada: (1025, 1293)\n",
            "Shape da transformada: (1025, 1293)\n",
            "Shape da transformada: (1025, 1293)\n",
            "Shape da transformada: (1025, 1293)\n",
            "Shape da transformada: (1025, 1293)\n",
            "Shape da transformada: (1025, 1293)\n",
            "Shape da transformada: (1025, 1293)\n",
            "Shape da transformada: (1025, 1293)\n",
            "Shape da transformada: (1025, 1293)\n",
            "Shape da transformada: (1025, 1293)\n",
            "Shape da transformada: (1025, 1293)\n",
            "Shape da transformada: (1025, 1293)\n",
            "Shape da transformada: (1025, 1293)\n",
            "Shape da transformada: (1025, 1293)\n",
            "Shape da transformada: (1025, 1293)\n",
            "Shape da transformada: (1025, 1293)\n",
            "Shape da transformada: (1025, 1293)\n"
          ]
        }
      ]
    },
    {
      "cell_type": "code",
      "source": [
        "\n",
        "genres = [\"classical\", \"blues\", \"country\", \"disco\", \"jazz\", \"hiphop\", \"metal\", \"pop\", \"reggae\", \"rock\"]\n",
        "path_base = \"/content/dataset/Data/genres_original\"\n",
        "\n",
        "# Criando um dicionário com os caminhos dos arquivos de áudio\n",
        "audio_paths_sample = {genre: f\"{path_base}/{genre}/{genre}.00001.wav\" for genre in genres}\n"
      ],
      "metadata": {
        "id": "9TPKNLFcML_-"
      },
      "execution_count": null,
      "outputs": []
    },
    {
      "cell_type": "code",
      "source": [
        "Audio(audio_paths_sample[\"blues\"])"
      ],
      "metadata": {
        "id": "6gpUHI0QMMlI"
      },
      "execution_count": null,
      "outputs": []
    },
    {
      "cell_type": "code",
      "source": [
        "Audio(audio_paths_sample[\"country\"])\n"
      ],
      "metadata": {
        "id": "f87mJyUEpP0K"
      },
      "execution_count": null,
      "outputs": []
    },
    {
      "cell_type": "code",
      "source": [
        "Audio(audio_paths_sample[\"disco\"])\n"
      ],
      "metadata": {
        "id": "DhhleES3dqzP"
      },
      "execution_count": null,
      "outputs": []
    },
    {
      "cell_type": "code",
      "source": [
        "Audio(audio_paths_sample[\"jazz\"])\n"
      ],
      "metadata": {
        "id": "SPMbVzGKNzos"
      },
      "execution_count": null,
      "outputs": []
    },
    {
      "cell_type": "code",
      "source": [
        "Audio(audio_paths_sample[\"hiphop\"])\n"
      ],
      "metadata": {
        "id": "PB5qXun9N0_X"
      },
      "execution_count": null,
      "outputs": []
    },
    {
      "cell_type": "code",
      "source": [
        "Audio(audio_paths_sample[\"metal\"])\n"
      ],
      "metadata": {
        "id": "l91d2a-nN14s"
      },
      "execution_count": null,
      "outputs": []
    },
    {
      "cell_type": "code",
      "source": [
        "Audio(audio_paths_sample[\"pop\"])\n"
      ],
      "metadata": {
        "id": "jP9QN5ivN35E"
      },
      "execution_count": null,
      "outputs": []
    },
    {
      "cell_type": "code",
      "source": [
        "Audio(audio_paths_sample[\"reggae\"])\n"
      ],
      "metadata": {
        "id": "rnpHfjgfN49y"
      },
      "execution_count": null,
      "outputs": []
    },
    {
      "cell_type": "code",
      "source": [
        "Audio(audio_paths_sample[\"rock\"])"
      ],
      "metadata": {
        "id": "Ch8GCKKLN6BN"
      },
      "execution_count": null,
      "outputs": []
    },
    {
      "cell_type": "markdown",
      "source": [
        "## Extract Features"
      ],
      "metadata": {
        "id": "nVpFq40hm2v2"
      }
    },
    {
      "cell_type": "code",
      "source": [],
      "metadata": {
        "id": "G0NlUyxnm7U2"
      },
      "execution_count": null,
      "outputs": []
    },
    {
      "cell_type": "markdown",
      "source": [
        "## Model"
      ],
      "metadata": {
        "id": "a6CsilKqlwHW"
      }
    },
    {
      "cell_type": "code",
      "source": [
        "class genre_classifier(nn.Module):\n",
        "  def __init__(self):\n",
        "    super().__init__(self, genre_classifier)\n",
        "\n",
        "\n",
        "  def forward(self, audio, caracteristic_vector):\n",
        "    pass\n",
        "\n",
        "\n"
      ],
      "metadata": {
        "id": "avQ_xDfPlzfp"
      },
      "execution_count": null,
      "outputs": []
    }
  ]
}