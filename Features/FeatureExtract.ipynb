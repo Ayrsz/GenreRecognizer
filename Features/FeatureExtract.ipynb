{
  "cells": [
    {
      "cell_type": "markdown",
      "metadata": {
        "id": "view-in-github",
        "colab_type": "text"
      },
      "source": [
        "<a href=\"https://colab.research.google.com/github/Ayrsz/SignalAndSistemyProject/blob/main/Features/FeatureExtract.ipynb\" target=\"_parent\"><img src=\"https://colab.research.google.com/assets/colab-badge.svg\" alt=\"Open In Colab\"/></a>"
      ]
    },
    {
      "cell_type": "code",
      "execution_count": 1,
      "metadata": {
        "id": "fz7_fnJ4KaUM"
      },
      "outputs": [],
      "source": [
        "#Scientific computation\n",
        "import numpy as np\n",
        "import jax\n",
        "import jax.numpy as jnp\n",
        "\n",
        "#Plot and view\n",
        "from matplotlib import pyplot as plt\n",
        "import IPython as ipy\n",
        "from IPython import display\n",
        "from IPython.display import Audio\n",
        "\n",
        "#Data manipulation\n",
        "import os\n",
        "import gc\n",
        "\n",
        "#Audio manipulation\n",
        "import librosa\n",
        "import soundfile as sf\n",
        "\n",
        "#Image manipulation\n",
        "import cv2 as cv\n",
        "import skimage as ski"
      ]
    },
    {
      "cell_type": "markdown",
      "metadata": {
        "id": "WTn7HJZG6MBl"
      },
      "source": [
        "# Building Files"
      ]
    },
    {
      "cell_type": "code",
      "execution_count": 5,
      "metadata": {
        "colab": {
          "base_uri": "https://localhost:8080/"
        },
        "id": "7UUiH7ivKloZ",
        "outputId": "0ca168a6-8ae7-4f80-bd4f-77ca24496305"
      },
      "outputs": [
        {
          "output_type": "stream",
          "name": "stdout",
          "text": [
            "Mounted at /content/drive\n"
          ]
        }
      ],
      "source": [
        "from zipfile import ZipFile\n",
        "\n",
        "try:\n",
        "    from google.colab import drive\n",
        "\n",
        "    drive.mount(\"/content/drive\", force_remount=True)\n",
        "except Exception as e:\n",
        "    print(e)\n",
        "    print(\"Rodando localmente\")"
      ]
    },
    {
      "cell_type": "code",
      "execution_count": 3,
      "metadata": {
        "colab": {
          "base_uri": "https://localhost:8080/"
        },
        "id": "zNM1AUKsS6S-",
        "outputId": "e36439cc-8c4f-4946-f3c1-5382105ad379"
      },
      "outputs": [
        {
          "output_type": "stream",
          "name": "stdout",
          "text": [
            "Arquivo já unzipado, sem necessidade de ações.\n"
          ]
        }
      ],
      "source": [
        "# Unzip in a specific folder\n",
        "path_root = \"/content/drive/MyDrive/Datasets/DatasetAudios\"\n",
        "path_zip = path_root + \"/GTZAN.zip\"\n",
        "with ZipFile(path_zip, \"r\") as zip_archive:\n",
        "    if not os.path.exists(path_root + \"/Data\"):\n",
        "        print(f\"Unzipando em : {path_root}\")\n",
        "        zip_archive.extractall(path_root)\n",
        "        print(\"Unzipado!\")\n",
        "    else:\n",
        "        print(\"Arquivo já unzipado, sem necessidade de ações.\")\n",
        "\n",
        "path_root = path_root + \"/Data\""
      ]
    },
    {
      "cell_type": "code",
      "execution_count": 4,
      "metadata": {
        "id": "7VFu6mTKS9IZ"
      },
      "outputs": [],
      "source": [
        "def dir_genres(path_all_genres : str) -> list[str]:\n",
        "    return [path_all_genres + '/' + pasta for pasta in os.listdir(path_all_genres)]\n",
        "\n",
        "#Return all files.wav separated per genres\n",
        "def dir_files_wav(path_genre : str) -> list[str]:\n",
        "  return [path_genre + '/' + arquivo for arquivo in os.listdir(path_genre)]\n"
      ]
    },
    {
      "cell_type": "markdown",
      "metadata": {
        "id": "i6mDQJjbKybo"
      },
      "source": [
        "# Generate Escpectogram"
      ]
    },
    {
      "cell_type": "code",
      "execution_count": 9,
      "metadata": {
        "colab": {
          "base_uri": "https://localhost:8080/"
        },
        "id": "lUVnyySbK_kJ",
        "outputId": "4dfca0e6-233d-4550-8124-a6932d057861"
      },
      "outputs": [
        {
          "output_type": "stream",
          "name": "stdout",
          "text": [
            "Diretório '/content/drive/MyDrive/Datasets/DatasetAudios/Data/images' e subpastas criadas com sucesso!\n",
            "Writing on: /content/drive/MyDrive/Datasets/DatasetAudios/Data/images/jazz\n",
            "Carregando imagens, jazz : 49.49%\n",
            "Carregando imagens, jazz : 100.00%\n",
            "Writing on: /content/drive/MyDrive/Datasets/DatasetAudios/Data/images/blues\n",
            "Carregando imagens, blues : 50.00%\n",
            "Carregando imagens, blues : 100.00%\n",
            "Writing on: /content/drive/MyDrive/Datasets/DatasetAudios/Data/images/classical\n",
            "Carregando imagens, classical : 50.00%\n",
            "Carregando imagens, classical : 100.00%\n",
            "Writing on: /content/drive/MyDrive/Datasets/DatasetAudios/Data/images/country\n",
            "Carregando imagens, country : 50.00%\n",
            "Carregando imagens, country : 100.00%\n",
            "Writing on: /content/drive/MyDrive/Datasets/DatasetAudios/Data/images/disco\n",
            "Carregando imagens, disco : 50.00%\n",
            "Carregando imagens, disco : 100.00%\n",
            "Writing on: /content/drive/MyDrive/Datasets/DatasetAudios/Data/images/hiphop\n",
            "Carregando imagens, hiphop : 50.00%\n",
            "Carregando imagens, hiphop : 100.00%\n",
            "Writing on: /content/drive/MyDrive/Datasets/DatasetAudios/Data/images/metal\n",
            "Carregando imagens, metal : 50.00%\n",
            "Carregando imagens, metal : 100.00%\n",
            "Writing on: /content/drive/MyDrive/Datasets/DatasetAudios/Data/images/pop\n",
            "Carregando imagens, pop : 50.00%\n",
            "Carregando imagens, pop : 100.00%\n",
            "Writing on: /content/drive/MyDrive/Datasets/DatasetAudios/Data/images/reggae\n",
            "Carregando imagens, reggae : 50.00%\n",
            "Carregando imagens, reggae : 100.00%\n",
            "Writing on: /content/drive/MyDrive/Datasets/DatasetAudios/Data/images/rock\n",
            "Carregando imagens, rock : 50.00%\n",
            "Carregando imagens, rock : 100.00%\n"
          ]
        }
      ],
      "source": [
        "def is_dir_empty(path : str) -> bool:\n",
        "    with os.scandir(path) as iterator:\n",
        "        for entry in iterator:\n",
        "            if entry.name == '.ipynb_checkpoints':\n",
        "                continue\n",
        "            return False  # Se encontrar qualquer outro arquivo/pasta, não está vazio\n",
        "        return True  # Se só havia .ipynb_checkpoints (ou nada), está vazio\n",
        "def spectro_feat(audio : jnp.ndarray, sample_rate : int) -> jnp.ndarray:\n",
        "\n",
        "    audio = jax.device_put(audio)\n",
        "    FFT_SIZE = 512\n",
        "    HOP_SIZE = 256\n",
        "\n",
        "    hamming = jnp.hamming(FFT_SIZE)\n",
        "    num_frames = (len(audio) - FFT_SIZE) // HOP_SIZE + 1\n",
        "\n",
        "    def compute_fft(i):\n",
        "        start = i * HOP_SIZE\n",
        "        signal = jax.lax.dynamic_slice(audio, (start,), (FFT_SIZE,))\n",
        "        signal = signal * hamming\n",
        "        return jnp.fft.rfft(signal, n = FFT_SIZE)\n",
        "\n",
        "\n",
        "    sfft = jax.vmap(compute_fft)(jnp.arange(num_frames))\n",
        "\n",
        "    ssft = jnp.abs(sfft)**2 #Spectro\n",
        "    dB_format =  20 * jnp.log10( (ssft+1e-10) / 1e-10) #Spectro\n",
        "    return dB_format.T\n",
        "\n",
        "def spectro_feat_batch(batch : jnp.ndarray, sample_rate : int) -> jnp.ndarray:\n",
        "    return jax.vmap(lambda audio: spectro_feat(audio, sample_rate))(batch)\n",
        "\n",
        "def plt_spectogram(batch : jnp.ndarray, sample_rate : int, y_axis_type= \"linear\"):\n",
        "  escala_Y = spectro_feat_batch(batch, sample_rate)\n",
        "  escala_Y = np.array(escala_Y)\n",
        "  #fig = plt.figure(figsize=(10,10))\n",
        "  #plt.subplot(3,3,1)\n",
        "  for (i,audio) in enumerate(escala_Y):\n",
        "    plt.subplot(3,3,i+1)\n",
        "    librosa.display.specshow(audio, sr = sample_rate, x_axis = \"time\", y_axis = y_axis_type, )\n",
        "    plt.set_cmap(\"magma\")\n",
        "    plt.colorbar()\n",
        "\n",
        "\n",
        "def create_batch(files : list[str], size : int, genre : str, shape = 661794):\n",
        "    batch_size = min(size, len(files))\n",
        "    batch = jnp.zeros((batch_size, shape))  # Inicializa batch zerado\n",
        "    names = []\n",
        "    nums = []\n",
        "    new_files = []  # Lista para armazenar arquivos que foram processados corretamente\n",
        "\n",
        "    for i in range(batch_size):\n",
        "        try:\n",
        "\n",
        "            audio, sample_rate = sf.read(files[i])  # Mantém o SR original\n",
        "\n",
        "            if len(audio) < shape:\n",
        "                # Preenche com zeros se o áudio for menor que o tamanho esperado\n",
        "                audio = jnp.pad(audio, (0, shape - len(audio)))\n",
        "            elif len(audio) > shape:\n",
        "                # Se for maior, corta\n",
        "                audio = audio[:shape]\n",
        "\n",
        "            batch = batch.at[i].set(audio)\n",
        "            archive = files[i].split(\"/\")[-1].split(\".\")\n",
        "            num = archive[-2]\n",
        "            name = archive[0]\n",
        "\n",
        "\n",
        "            names.append(name)\n",
        "            nums.append(num)\n",
        "            new_files.append(files[i])  # Adiciona à lista de arquivos processados\n",
        "\n",
        "        except Exception as e:\n",
        "            print(f\"Erro ao processar {files[i]}: {e}\")\n",
        "\n",
        "    # Remove os arquivos processados da lista original\n",
        "    for file in new_files:\n",
        "        files.remove(file)\n",
        "    batch = jax.device_put(batch)\n",
        "    return batch, names, nums, sample_rate, files\n",
        "\n",
        "\n",
        "def write_spectrogram(audios : jnp.ndarray, sample_rate: int, paths_write : list[str]):\n",
        "  escala_Y = spectro_feat_batch(audios, sample_rate)\n",
        "\n",
        "  del audios\n",
        "  gc.collect()\n",
        "\n",
        "  escala_Y = np.array(escala_Y)\n",
        "\n",
        "  assert len(escala_Y) == len(paths_write)\n",
        "\n",
        "  for (spec, path_write) in zip(escala_Y, paths_write):\n",
        "    spec = 255*(spec - np.max(spec))/(np.max(spec) - np.min(spec))\n",
        "    spec = spec.astype(np.uint8)\n",
        "    spec = 255 - spec\n",
        "    img = cv.applyColorMap(spec, cv.COLORMAP_INFERNO)\n",
        "    cv.imwrite(path_write, img)\n",
        "\n",
        "\n",
        "def write_spectrogram_from_genre(genre_path : str):\n",
        "    files = dir_files_wav(genre_path)\n",
        "    total_files_start = len(files)\n",
        "    paths = np.array(genre_path.split(\"/\"))\n",
        "    genre = paths[-1]\n",
        "    size_path = len(paths)\n",
        "    genre_images_path = '/'.join(paths[0:size_path-2]) + \"/images/\" + genre\n",
        "    batch_size = 3\n",
        "\n",
        "    print(f\"Writing on: {genre_images_path}\")\n",
        "\n",
        "    if is_dir_empty(genre_images_path):\n",
        "        while(len(files) != 0):\n",
        "            try:\n",
        "                audios, names, nums, sample_rate, files = create_batch(files, batch_size, genre)\n",
        "\n",
        "                paths_write = [genre_images_path + \"/\" + name + \".\" + num + \".png\" for (num, name) in zip(nums, names)]\n",
        "                write_spectrogram(audios, sample_rate, paths_write)#, path_write)\n",
        "\n",
        "                if(len(files) % 100 == 0):\n",
        "                    print(f\"Carregando imagens, {genre} : {((total_files_start - len(files))/total_files_start)*100:.2f}%\")\n",
        "            except Exception as e:\n",
        "                print(f\"Erro {e}\")\n",
        "                print(f\"Erro em {files[0]}\")\n",
        "\n",
        "\n",
        "    else:\n",
        "        print(f\"Diretorio com imagens, porfavor esvazie: {genre}\")\n",
        "\n",
        "def create_image_directory(root_dir, base_dir=\"images\"):\n",
        "\n",
        "    genres = [\n",
        "        \"blues\", \"classical\", \"country\", \"disco\", \"hiphop\",\n",
        "        \"jazz\", \"metal\", \"pop\", \"reggae\", \"rock\"\n",
        "    ]\n",
        "\n",
        "    # Define o caminho completo do diretório base\n",
        "    full_base_path = os.path.join(root_dir, base_dir)\n",
        "\n",
        "    # Verifica se o diretório base existe, senão cria\n",
        "    if not os.path.exists(full_base_path):\n",
        "        os.makedirs(full_base_path)\n",
        "\n",
        "    # Cria as subpastas dos gêneros\n",
        "    for genre in genres:\n",
        "        genre_path = os.path.join(full_base_path, genre)\n",
        "        if not os.path.exists(genre_path):\n",
        "            os.makedirs(genre_path)\n",
        "\n",
        "    print(f\"Diretório '{full_base_path}' e subpastas criadas com sucesso!\")\n",
        "\n",
        "\n",
        "#Writting new images spectogram\n",
        "def write_all_spectrograms(path_root : str):\n",
        "\n",
        "  genres_path = dir_genres(path_root + \"/genres_original\")\n",
        "  create_image_directory(path_root)\n",
        "  for genre_path in genres_path:\n",
        "    write_spectrogram_from_genre(genre_path)\n",
        "\n",
        "\n",
        "\n",
        "write_all_spectrograms(path_root)"
      ]
    },
    {
      "cell_type": "markdown",
      "metadata": {
        "id": "eIHE1X-2K3UA"
      },
      "source": [
        "# Features on time domain"
      ]
    },
    {
      "cell_type": "code",
      "execution_count": 15,
      "metadata": {
        "id": "odygBjow6MBq",
        "outputId": "c1c4c4af-6fab-483c-e07d-ae2c2a130243",
        "colab": {
          "base_uri": "https://localhost:8080/"
        }
      },
      "outputs": [
        {
          "output_type": "stream",
          "name": "stdout",
          "text": [
            "[CpuDevice(id=0)]\n"
          ]
        }
      ],
      "source": [
        "print(jax.devices())"
      ]
    },
    {
      "cell_type": "code",
      "execution_count": 16,
      "metadata": {
        "id": "lodMBaUPpCZg"
      },
      "outputs": [],
      "source": [
        "audio_example, sr = librosa.load(path_root + \"/genres_original/metal/metal.00041.wav\")"
      ]
    },
    {
      "cell_type": "code",
      "execution_count": 17,
      "metadata": {
        "id": "xD2GLz0QEi-u"
      },
      "outputs": [],
      "source": [
        "def round_float_decimal(number):\n",
        "    if not isinstance(number, np.ndarray):\n",
        "        return float(f\"{number:.4f}\")\n",
        "    else:\n",
        "        return np.array([float(f\"{d:.4f}\") for d in number])\n",
        "\n",
        "def get_statistics_feature(signal : np.typing.NDArray, name) -> dict:\n",
        "    mean = round_float_decimal(np.mean(signal))\n",
        "    std = round_float_decimal(np.std(signal))\n",
        "\n",
        "    return {name + \"_mean\": mean, name + \"_std\":std}"
      ]
    },
    {
      "cell_type": "markdown",
      "metadata": {
        "id": "mMDhTnANmLPE"
      },
      "source": [
        "## Low level features"
      ]
    },
    {
      "cell_type": "markdown",
      "metadata": {
        "id": "qkFMHBeYeQm1"
      },
      "source": [
        "### Energy"
      ]
    },
    {
      "cell_type": "code",
      "execution_count": 18,
      "metadata": {
        "colab": {
          "base_uri": "https://localhost:8080/"
        },
        "id": "ULT1hN6XK850",
        "outputId": "8290bce3-a607-4fc3-a97d-258c2f1ac7c3"
      },
      "outputs": [
        {
          "output_type": "stream",
          "name": "stdout",
          "text": [
            "{'rms_mean': 0.0968, 'rms_std': 0.0227}\n"
          ]
        }
      ],
      "source": [
        "def get_rms(audio, FRAME_SIZE = 1024):\n",
        "    rms = librosa.feature.rms(y = audio, frame_length= FRAME_SIZE)\n",
        "    feats = get_statistics_feature(rms, \"rms\")\n",
        "    return feats\n",
        "rms = get_rms(audio_example)\n",
        "print(rms)\n"
      ]
    },
    {
      "cell_type": "markdown",
      "metadata": {
        "id": "79prusHfeTXz"
      },
      "source": [
        "### Zero-Cross-Rate"
      ]
    },
    {
      "cell_type": "code",
      "execution_count": 19,
      "metadata": {
        "id": "UplXF36YscQF"
      },
      "outputs": [],
      "source": [
        "def get_zero_cross_rate(audio, FRAME_SIZE = 1024):\n",
        "    zero_cross = librosa.feature.zero_crossing_rate(audio, frame_length= FRAME_SIZE)\n",
        "    feats = get_statistics_feature(zero_cross, \"zero_cross\")\n",
        "    return feats\n",
        "\n",
        "\n",
        "rate = get_zero_cross_rate(audio_example)\n"
      ]
    },
    {
      "cell_type": "markdown",
      "metadata": {
        "id": "q6niBMUKfERa"
      },
      "source": [
        "### Amplitude Envelope"
      ]
    },
    {
      "cell_type": "code",
      "execution_count": 20,
      "metadata": {
        "id": "NjDhuPbvilI0"
      },
      "outputs": [],
      "source": [
        "def get_amplitude_envelope(audio, sample_rate, frame_size = 1024):\n",
        "    AEm = []\n",
        "    number_of_frames = len(audio) // frame_size\n",
        "    for i in range(number_of_frames):\n",
        "        start = i * frame_size\n",
        "        stop = start + frame_size\n",
        "        max_amp = np.max(audio[start:stop])\n",
        "        AEm.append(max_amp)\n",
        "    AEm = np.array(AEm)\n",
        "\n",
        "    feats = get_statistics_feature(AEm, \"amplitude_envelope\")\n",
        "    return feats"
      ]
    },
    {
      "cell_type": "markdown",
      "metadata": {
        "id": "GvVBIuKjnBOI"
      },
      "source": [
        "## High level features"
      ]
    },
    {
      "cell_type": "markdown",
      "metadata": {
        "id": "d1_w9d5HnKUI"
      },
      "source": [
        "### Tempo"
      ]
    },
    {
      "cell_type": "code",
      "execution_count": 21,
      "metadata": {
        "colab": {
          "base_uri": "https://localhost:8080/"
        },
        "id": "yWDhN7ovnJ7Z",
        "outputId": "e14005b4-5bb0-43c9-8d95-46be4cbef030"
      },
      "outputs": [
        {
          "output_type": "stream",
          "name": "stdout",
          "text": [
            "[117]\n"
          ]
        }
      ],
      "source": [
        "def get_tempo(audio, sample_rate):\n",
        "    tempo, beats = librosa.beat.beat_track(y = audio, sr = sample_rate)\n",
        "    tempo = tempo #É um vetor de apenas um unico valor\n",
        "    return np.int32(tempo)\n",
        "\n",
        "\n",
        "print(get_tempo(audio_example, sr))"
      ]
    },
    {
      "cell_type": "markdown",
      "metadata": {
        "id": "QyHTUG4ZK9n6"
      },
      "source": [
        "# Features on frequency domain"
      ]
    },
    {
      "cell_type": "markdown",
      "metadata": {
        "id": "v9nT9KJ16msF"
      },
      "source": [
        "## Low level feature"
      ]
    },
    {
      "cell_type": "markdown",
      "metadata": {
        "id": "sdAc2IKm6MBu"
      },
      "source": [
        "### Spectral centroid"
      ]
    },
    {
      "cell_type": "code",
      "execution_count": 22,
      "metadata": {
        "colab": {
          "base_uri": "https://localhost:8080/"
        },
        "id": "e3E5JHv66mZO",
        "outputId": "7618a364-56b3-46d5-c75b-35202efa208f"
      },
      "outputs": [
        {
          "output_type": "stream",
          "name": "stdout",
          "text": [
            "{'spectral_centroid_mean': 2269.1619, 'spectral_centroid_std': 368.4678}\n"
          ]
        }
      ],
      "source": [
        "#Gera um \"centro de massa\"\n",
        "#Média das frequencias, ponderadas pela amplitude daquela sample para cada frame (usa sft)\n",
        "def get_spectral_centroid(audio, sample_rate):\n",
        "    spectral_centroid = librosa.feature.spectral_centroid(y = audio, sr = sample_rate)\n",
        "    feats = get_statistics_feature(spectral_centroid, \"spectral_centroid\")\n",
        "    return feats\n",
        "\n",
        "centroid = get_spectral_centroid(audio_example, sr)\n",
        "print(centroid)"
      ]
    },
    {
      "cell_type": "markdown",
      "metadata": {
        "id": "XYq8IAGa6MBu"
      },
      "source": [
        "### Bandwidsh"
      ]
    },
    {
      "cell_type": "code",
      "execution_count": 23,
      "metadata": {
        "id": "VQVBPRJ66MBu",
        "outputId": "6e6afb3c-4f32-45f8-d128-78bd3b590271",
        "colab": {
          "base_uri": "https://localhost:8080/"
        }
      },
      "outputs": [
        {
          "output_type": "stream",
          "name": "stdout",
          "text": [
            "{'bandwidth_mean': 1928.9448, 'bandwidth_std': 297.4026}\n"
          ]
        }
      ],
      "source": [
        "#Grau de \"espalhamento\" do espectro de um audio, calcula para CADA FRAME\n",
        "def get_bandwidth(audio, sample_rate):\n",
        "    bandwidth = librosa.feature.spectral_bandwidth(y = audio, sr = sample_rate)[0]\n",
        "    return get_statistics_feature(bandwidth, \"bandwidth\")\n",
        "\n",
        "a = get_bandwidth(audio_example, sr)\n",
        "\n",
        "print(a)"
      ]
    },
    {
      "cell_type": "markdown",
      "metadata": {
        "id": "57gmTB1r8RrJ"
      },
      "source": [
        "## High level feature"
      ]
    },
    {
      "cell_type": "code",
      "execution_count": 29,
      "metadata": {
        "colab": {
          "base_uri": "https://localhost:8080/"
        },
        "id": "Eir8oQ-M8RJX",
        "outputId": "61ce3595-ea83-4981-87c9-ffb4f3ba05b8"
      },
      "outputs": [
        {
          "output_type": "stream",
          "name": "stdout",
          "text": [
            "{'mfcc#00_mean': -100.4234, 'mfcc#00_std': 36.4089, 'mfcc#01_mean': 104.6932, 'mfcc#01_std': 19.8516, 'mfcc#02_mean': -57.254, 'mfcc#02_std': 18.1442, 'mfcc#03_mean': 56.5769, 'mfcc#03_std': 10.628, 'mfcc#04_mean': -5.5556, 'mfcc#04_std': 9.6729, 'mfcc#05_mean': 22.8333, 'mfcc#05_std': 10.0632, 'mfcc#06_mean': -6.1715, 'mfcc#06_std': 10.5025, 'mfcc#07_mean': 23.0971, 'mfcc#07_std': 8.8752, 'mfcc#08_mean': -19.072, 'mfcc#08_std': 7.0803, 'mfcc#09_mean': 17.7954, 'mfcc#09_std': 7.2162, 'mfcc#10_mean': -13.783, 'mfcc#10_std': 6.9338, 'mfcc#11_mean': 9.9628, 'mfcc#11_std': 7.0728, 'mfcc#12_mean': -14.8587, 'mfcc#12_std': 6.9912, 'mfcc#13_mean': 0.3451, 'mfcc#13_std': 8.4316, 'mfcc#14_mean': -7.3378, 'mfcc#14_std': 7.2783, 'mfcc#15_mean': 6.9755, 'mfcc#15_std': 6.386, 'mfcc#16_mean': -12.6738, 'mfcc#16_std': 6.388, 'mfcc#17_mean': -0.5505, 'mfcc#17_std': 5.5762, 'mfcc#18_mean': -11.7564, 'mfcc#18_std': 6.1158, 'mfcc#19_mean': -1.5363, 'mfcc#19_std': 5.5106}\n"
          ]
        }
      ],
      "source": [
        "def get_mel_coef(audio, sample_rate):\n",
        "    mfcc = librosa.feature.mfcc(y = audio, sr = sample_rate, n_mfcc = 20)\n",
        "    coefs_estatistics = {}\n",
        "    for (i,coefs) in enumerate(mfcc):\n",
        "        coefs_estatistics[\"mfcc#\" + f\"{i:02d}_mean\"] = round_float_decimal(np.mean(coefs))\n",
        "        coefs_estatistics[\"mfcc#\" + f\"{i:02d}_std\"] = round_float_decimal(np.std(coefs))\n",
        "\n",
        "\n",
        "    return coefs_estatistics\n",
        "\n",
        "mfcc = get_mel_coef(audio_example, sr)\n",
        "print(mfcc)"
      ]
    },
    {
      "cell_type": "markdown",
      "metadata": {
        "id": "AmseXtv66MBv"
      },
      "source": [
        "# Features on spectogram images"
      ]
    },
    {
      "cell_type": "markdown",
      "metadata": {
        "id": "Rm57u-t06MBv"
      },
      "source": [
        "### Hog"
      ]
    },
    {
      "cell_type": "code",
      "execution_count": 26,
      "metadata": {
        "id": "ZQHc4cRm6MBv"
      },
      "outputs": [],
      "source": [
        "def get_hog(spectogram):\n",
        "    spectogram = cv.resize(spectogram, dsize = (2*spectogram.shape[0], spectogram.shape[0]), interpolation = cv.INTER_AREA)\n",
        "\n",
        "    hog = ski.feature.hog(spectogram,\n",
        "                          channel_axis= -1,\n",
        "                          orientations = 8\n",
        "                          )\n",
        "    return get_statistics_feature(hog, \"hog\")\n",
        "\n",
        "\n",
        "\n"
      ]
    },
    {
      "cell_type": "markdown",
      "metadata": {
        "id": "qN_pMIWZ6MBv"
      },
      "source": [
        "### Band Energy"
      ]
    },
    {
      "cell_type": "code",
      "execution_count": 27,
      "metadata": {
        "id": "DZmrpKHt6MBv"
      },
      "outputs": [],
      "source": [
        "def get_band_energy(spectogram):\n",
        "    #Limiar \"high\" and \"low\" frequency\n",
        "    H, L = spectogram.shape[0], spectogram.shape[1]\n",
        "    CUT_FREQ = (spectogram.shape[0] // 10) * 6\n",
        "    high_bin = spectogram[CUT_FREQ:H:,:, :]\n",
        "    low_bin = spectogram[0:CUT_FREQ, :, :]\n",
        "    energy_coef = []\n",
        "\n",
        "\n",
        "\n",
        "    for i in range(L):\n",
        "\n",
        "        sum_high = np.sum(high_bin[:,i])\n",
        "        sum_low = np.sum(low_bin[:,i])\n",
        "        energy_coef.append(sum_high/sum_low)\n",
        "\n",
        "    return get_statistics_feature(np.array(energy_coef), \"band\")\n",
        "\n"
      ]
    },
    {
      "cell_type": "markdown",
      "metadata": {
        "id": "gWHxnz2v-X_n"
      },
      "source": [
        "# Create CSV"
      ]
    },
    {
      "cell_type": "code",
      "execution_count": 32,
      "metadata": {
        "id": "vOX7Yd1x-aXH",
        "outputId": "d46824de-c074-453f-fd28-c9d007ea94b1",
        "colab": {
          "base_uri": "https://localhost:8080/"
        }
      },
      "outputs": [
        {
          "output_type": "stream",
          "name": "stdout",
          "text": [
            "Acessing:  /content/drive/MyDrive/Datasets/DatasetAudios/Data/genres_original/jazz\n",
            "Acessing:  /content/drive/MyDrive/Datasets/DatasetAudios/Data/genres_original/blues\n",
            "Acessing:  /content/drive/MyDrive/Datasets/DatasetAudios/Data/genres_original/classical\n",
            "Acessing:  /content/drive/MyDrive/Datasets/DatasetAudios/Data/genres_original/country\n",
            "Acessing:  /content/drive/MyDrive/Datasets/DatasetAudios/Data/genres_original/disco\n",
            "Acessing:  /content/drive/MyDrive/Datasets/DatasetAudios/Data/genres_original/hiphop\n",
            "Acessing:  /content/drive/MyDrive/Datasets/DatasetAudios/Data/genres_original/metal\n",
            "Acessing:  /content/drive/MyDrive/Datasets/DatasetAudios/Data/genres_original/pop\n",
            "Acessing:  /content/drive/MyDrive/Datasets/DatasetAudios/Data/genres_original/reggae\n",
            "Acessing:  /content/drive/MyDrive/Datasets/DatasetAudios/Data/genres_original/rock\n"
          ]
        }
      ],
      "source": [
        "import csv\n",
        "\n",
        "\n",
        "def get_features_spectro(file):\n",
        "    dirs = file.split(\"/\")\n",
        "    genre = dirs[-2]\n",
        "    root = \"/\".join(dirs[0 : len(dirs) - 3])\n",
        "    name = dirs[-1].replace(\".wav\", \"\")\n",
        "    name_png = root + \"/images/\" + genre + \"/\" + name + \".png\"\n",
        "\n",
        "    spectro = cv.imread(name_png)\n",
        "    hog = get_hog(spectro)\n",
        "    band = get_band_energy(spectro)\n",
        "\n",
        "    feat = hog | band\n",
        "    return feat\n",
        "\n",
        "\n",
        "def get_features_dict(audio, sample_rate, name, dir_image):\n",
        "    features_dict = {\"name\": name + \".wav\", \"dir_image\": dir_image}\n",
        "\n",
        "    rms = get_rms(audio, sample_rate)\n",
        "    zero_cross = get_zero_cross_rate(audio)\n",
        "    amplitude_env = get_amplitude_envelope(audio, sample_rate)\n",
        "    spectral_centroid = get_spectral_centroid(audio, sample_rate)\n",
        "    mfcc_coef = get_mel_coef(audio, sample_rate)\n",
        "    band_wid = get_bandwidth(audio, sample_rate)\n",
        "    features_dict = (\n",
        "        features_dict\n",
        "        | rms\n",
        "        | zero_cross\n",
        "        | amplitude_env\n",
        "        | spectral_centroid\n",
        "        | mfcc_coef\n",
        "        | band_wid\n",
        "    )\n",
        "\n",
        "    tempo = get_tempo(audio, sample_rate)\n",
        "    label = (name.split(\".\")[0].split(\"_\"))[0]\n",
        "\n",
        "    features_dict.update({\"tempo\": tempo, \"label\": label})\n",
        "\n",
        "    return features_dict\n",
        "\n",
        "\n",
        "def write_csv_genre(genre_path, path_write):\n",
        "    files = dir_files_wav(genre_path)\n",
        "    features_vector = []\n",
        "\n",
        "    for i, file in enumerate(files):\n",
        "        path = file.split(\"/\")\n",
        "        name = path[-1].replace(\".wav\", \"\")\n",
        "        genre = name.split(\".\")[0]\n",
        "        idx_data = [i for i in range(len(path)) if path[i] == \"Data\"][0]\n",
        "        dir_image = (\n",
        "            \"/\".join(path[:idx_data]) + \"/Data/images/\" + genre + \"/\" + name + \".png\"\n",
        "        )\n",
        "        audio, sample_rate = librosa.load(file)\n",
        "        features_dict = get_features_dict(audio, sample_rate, name, dir_image)\n",
        "        features_dict = features_dict | get_features_spectro(file)\n",
        "        features_vector.append(features_dict)\n",
        "\n",
        "    return features_vector\n",
        "\n",
        "\n",
        "def write_csv(root_dir, path_write):\n",
        "    genres_dir = dir_genres(root_dir)\n",
        "    columns = [\n",
        "        \"name\",\n",
        "        \"dir_image\",\n",
        "        \"rms_mean\",\n",
        "        \"rms_std\",\n",
        "        \"zero_cross_mean\",\n",
        "        \"zero_cross_std\",\n",
        "        \"amplitude_envelope_mean\",\n",
        "        \"amplitude_envelope_std\",\n",
        "        \"spectral_centroid_mean\",\n",
        "        \"spectral_centroid_std\",\n",
        "        \"hog_mean\",\n",
        "        \"hog_std\",\n",
        "        \"band_mean\",\n",
        "        \"band_std\",\n",
        "        \"bandwidth_mean\",\n",
        "        \"bandwidth_std\",\n",
        "        \"mfcc#00_mean\",\n",
        "        \"mfcc#00_std\",\n",
        "        \"mfcc#01_mean\",\n",
        "        \"mfcc#01_std\",\n",
        "        \"mfcc#02_mean\",\n",
        "        \"mfcc#02_std\",\n",
        "        \"mfcc#03_mean\",\n",
        "        \"mfcc#03_std\",\n",
        "        \"mfcc#04_mean\",\n",
        "        \"mfcc#04_std\",\n",
        "        \"mfcc#05_mean\",\n",
        "        \"mfcc#05_std\",\n",
        "        \"mfcc#06_mean\",\n",
        "        \"mfcc#06_std\",\n",
        "        \"mfcc#07_mean\",\n",
        "        \"mfcc#07_std\",\n",
        "        \"mfcc#08_mean\",\n",
        "        \"mfcc#08_std\",\n",
        "        \"mfcc#09_mean\",\n",
        "        \"mfcc#09_std\",\n",
        "        \"mfcc#10_mean\",\n",
        "        \"mfcc#10_std\",\n",
        "        \"mfcc#11_mean\",\n",
        "        \"mfcc#11_std\",\n",
        "        \"mfcc#12_mean\",\n",
        "        \"mfcc#12_std\",\n",
        "        \"mfcc#13_mean\",\n",
        "        \"mfcc#13_std\" ,\n",
        "        \"mfcc#14_mean\",\n",
        "        \"mfcc#14_std\",\n",
        "        \"mfcc#15_mean\",\n",
        "        \"mfcc#15_std\",\n",
        "        \"mfcc#16_mean\",\n",
        "        \"mfcc#16_std\" ,\n",
        "        \"mfcc#17_mean\",\n",
        "        \"mfcc#17_std\",\n",
        "        \"mfcc#18_mean\",\n",
        "        \"mfcc#18_std\",\n",
        "        \"mfcc#19_mean\",\n",
        "        \"mfcc#19_std\" ,\n",
        "        \"tempo\",\n",
        "        \"label\",\n",
        "    ]\n",
        "\n",
        "    with open(path_write + \"/feats.csv\", \"w\") as f:\n",
        "        writer = csv.DictWriter(f, columns)\n",
        "        writer.writeheader()\n",
        "        for genre in genres_dir:\n",
        "            print(\"Acessing: \", genre)\n",
        "            lines = write_csv_genre(genre, path_write)\n",
        "            writer.writerows(lines)\n",
        "        f.close()\n",
        "\n",
        "\n",
        "write_csv(path_root + \"/genres_original\", path_root)"
      ]
    },
    {
      "cell_type": "code",
      "execution_count": null,
      "metadata": {
        "id": "-I2kS2WW6MBw"
      },
      "outputs": [],
      "source": []
    }
  ],
  "metadata": {
    "colab": {
      "gpuType": "T4",
      "provenance": [],
      "include_colab_link": true
    },
    "kernelspec": {
      "display_name": "Python 3",
      "name": "python3"
    },
    "language_info": {
      "codemirror_mode": {
        "name": "ipython",
        "version": 3
      },
      "file_extension": ".py",
      "mimetype": "text/x-python",
      "name": "python",
      "nbconvert_exporter": "python",
      "pygments_lexer": "ipython3",
      "version": "3.10.12"
    }
  },
  "nbformat": 4,
  "nbformat_minor": 0
}