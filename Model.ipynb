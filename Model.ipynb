{
  "nbformat": 4,
  "nbformat_minor": 0,
  "metadata": {
    "colab": {
      "provenance": [],
      "authorship_tag": "ABX9TyPrfaJ2tfbr4ZlpkqwjnBW/",
      "include_colab_link": true
    },
    "kernelspec": {
      "name": "python3",
      "display_name": "Python 3"
    },
    "language_info": {
      "name": "python"
    }
  },
  "cells": [
    {
      "cell_type": "markdown",
      "metadata": {
        "id": "view-in-github",
        "colab_type": "text"
      },
      "source": [
        "<a href=\"https://colab.research.google.com/github/Ayrsz/SignalAndSistemyProject/blob/main/Model.ipynb\" target=\"_parent\"><img src=\"https://colab.research.google.com/assets/colab-badge.svg\" alt=\"Open In Colab\"/></a>"
      ]
    },
    {
      "cell_type": "code",
      "execution_count": 6,
      "metadata": {
        "id": "4v6Emhm5i8IC"
      },
      "outputs": [],
      "source": [
        "#Model CNN\n",
        "import torch\n",
        "import torch.nn as nn\n",
        "import torch.nn.functional as F\n",
        "import torchvision\n",
        "\n",
        "\n",
        "#Scientific computation\n",
        "import numpy as np\n",
        "import jax\n",
        "import jax.numpy as jnp\n",
        "\n",
        "#Plot and view\n",
        "from matplotlib import pyplot as plt\n",
        "import IPython as ipy\n",
        "from IPython import display\n",
        "from IPython.display import Audio\n",
        "\n",
        "#Data manipulation\n",
        "import os\n",
        "import gc\n",
        "\n",
        "#Audio manipulation\n",
        "import librosa\n",
        "import soundfile as sf"
      ]
    },
    {
      "cell_type": "code",
      "source": [
        "from zipfile import ZipFile\n",
        "try:\n",
        "    from google.colab import drive\n",
        "    drive.mount(\"/content/drive\", force_remount= True)\n",
        "except:\n",
        "    print(\"Código rodando localmente\")"
      ],
      "metadata": {
        "colab": {
          "base_uri": "https://localhost:8080/"
        },
        "id": "RLXJ6aFtjlPh",
        "outputId": "3c17ab54-d399-4784-d61a-a308ae39ac31"
      },
      "execution_count": 7,
      "outputs": [
        {
          "output_type": "stream",
          "name": "stdout",
          "text": [
            "Mounted at /content/drive\n"
          ]
        }
      ]
    },
    {
      "cell_type": "code",
      "source": [
        "class EfficientBlock(nn.Module):\n",
        "    def __init__(self, in_channels, out_channels, kernel_size=3, stride=1, padding=1, expand_ratio=1):\n",
        "        super(EfficientBlock, self).__init__()\n",
        "        self.conv1 = nn.Conv2d(in_channels, in_channels * expand_ratio, kernel_size=1, stride=1, padding=0, bias=False)\n",
        "        self.bn1 = nn.BatchNorm2d(in_channels * expand_ratio)\n",
        "        self.conv2 = nn.Conv2d(in_channels * expand_ratio, out_channels, kernel_size, stride, padding, bias=False)\n",
        "        self.bn2 = nn.BatchNorm2d(out_channels)\n",
        "        self.expand_ratio = expand_ratio\n",
        "\n",
        "    def forward(self, x):\n",
        "        identity = x\n",
        "\n",
        "        out = F.relu6(self.bn1(self.conv1(x)))\n",
        "        out = F.relu6(self.bn2(self.conv2(out)))\n",
        "\n",
        "        if identity.shape[1] == out.shape[1]:\n",
        "            out += identity\n",
        "        return out\n",
        "\n",
        "class EfficientNet(nn.Module):\n",
        "    def __init__(self, num_classes=1000):\n",
        "        super(EfficientNet, self).__init__()\n",
        "        self.stem_conv = nn.Conv2d(3, 32, kernel_size=3, stride=2, padding=1, bias=False)\n",
        "        self.stem_bn = nn.BatchNorm2d(32)\n",
        "        self.blocks = nn.Sequential(\n",
        "            EfficientBlock(32, 16, expand_ratio=1),\n",
        "            EfficientBlock(16, 24, expand_ratio=6),\n",
        "            EfficientBlock(24, 40, expand_ratio=6),\n",
        "            EfficientBlock(40, 80, expand_ratio=6),\n",
        "            EfficientBlock(80, 112, expand_ratio=6),\n",
        "            EfficientBlock(112, 192, expand_ratio=6),\n",
        "            EfficientBlock(192, 320, expand_ratio=6)\n",
        "        )\n",
        "        self.global_pool = nn.AdaptiveAvgPool2d(1)\n",
        "\n",
        "    def forward(self, x):\n",
        "        x = F.relu6(self.stem_bn(self.stem_conv(x)))\n",
        "        x = self.blocks(x)\n",
        "        x = self.global_pool(x)\n",
        "        x = torch.flatten(x, 1)\n",
        "\n",
        "        return x # Return a vector of pool,\n",
        "\n",
        "class Genre_Classification(EfficientNet):\n",
        "    def __init__(self, feature_size = 56, num_classes = 10):\n",
        "        super(Genre_Classification, self).__init__()\n",
        "\n",
        "    def forward(self, img_x, carac_x):\n",
        "        cnn_response = super(Genre_Classification, self).forward(self, x = img_x)\n",
        "\n"
      ],
      "metadata": {
        "id": "YB-v3_tmjwFI"
      },
      "execution_count": 8,
      "outputs": []
    }
  ]
}